{
 "cells": [
  {
   "attachments": {},
   "cell_type": "markdown",
   "metadata": {},
   "source": [
    "# Environment Setup"
   ]
  },
  {
   "cell_type": "code",
   "execution_count": null,
   "metadata": {
    "dotnet_interactive": {
     "language": "csharp"
    },
    "polyglot_notebook": {
     "kernelName": "csharp"
    }
   },
   "outputs": [],
   "source": [
    "#r \"nuget:Microsoft.DotNet.Interactive.SqlServer,*-*\""
   ]
  },
  {
   "cell_type": "code",
   "execution_count": null,
   "metadata": {
    "dotnet_interactive": {
     "language": "csharp"
    },
    "polyglot_notebook": {
     "kernelName": "csharp"
    }
   },
   "outputs": [],
   "source": [
    "#!connect mssql --kernel-name AGDemo-1a \"Persist Security Info=False; TrustServerCertificate=True; Integrated Security=true; Initial Catalog=master; Server=rp-sql19ags-1a.perf.rubrik.com;\"\n",
    "#!connect mssql --kernel-name AGDemo-1b \"Persist Security Info=False; TrustServerCertificate=True; Integrated Security=true; Initial Catalog=master; Server=rp-sql19ags-1b.perf.rubrik.com;\"\n",
    "#!connect mssql --kernel-name AGDemo-1c \"Persist Security Info=False; TrustServerCertificate=True; Integrated Security=true; Initial Catalog=master; Server=rp-sql19ags-1c.perf.rubrik.com;\""
   ]
  },
  {
   "cell_type": "code",
   "execution_count": null,
   "metadata": {
    "dotnet_interactive": {
     "language": "pwsh"
    },
    "polyglot_notebook": {
     "kernelName": "pwsh"
    }
   },
   "outputs": [],
   "source": [
    "# Rubrik Connection Information\n",
    "# $ServiceAccountID = op read op://Rubrik/RoadRunnerServiceAccount/username\n",
    "# $Secret = op read op://Rubrik/RoadRunnerServiceAccount/credential\n",
    "# $Server = op read op://Rubrik/RoadRunnerServiceAccount/hostname\n",
    "\n",
    "# Primary SQL Server\n",
    "$PrimarySQLServerInstance = 'rp-sql19ags-1a.perf.rubrik.com'\n",
    "\n",
    "# Secondary SQL Servers\n",
    "$SecondarySQLServerInstance = 'rp-sql19ags-1b.perf.rubrik.com', 'rp-sql19ags-1c.perf.rubrik.com'\n",
    "\n",
    "# Availability Group Name\n",
    "$AvailabilityGroupName = 'rp-sql19ags-g1'\n",
    "# Database Name\n",
    "$DatabaseName = 'ProductionDatabase'\n",
    "$TargetDatabaseName = 'ProductionDatabase_Copy'\n",
    "\n",
    "Import-Module rubrikgqlrunner\n",
    "$AccessToken = \"Bearer\""
   ]
  },
  {
   "attachments": {},
   "cell_type": "markdown",
   "metadata": {},
   "source": [
    "# Connect to Rubrik"
   ]
  },
  {
   "cell_type": "code",
   "execution_count": null,
   "metadata": {
    "dotnet_interactive": {
     "language": "pwsh"
    },
    "polyglot_notebook": {
     "kernelName": "pwsh"
    }
   },
   "outputs": [],
   "source": [
    "Connect-RubrikSecurityCloud -AccessToken $AccessToken"
   ]
  },
  {
   "attachments": {},
   "cell_type": "markdown",
   "metadata": {},
   "source": [
    "## Refresh the Hosts of the SQL Servers in RSC"
   ]
  },
  {
   "cell_type": "code",
   "execution_count": null,
   "metadata": {
    "dotnet_interactive": {
     "language": "pwsh"
    },
    "polyglot_notebook": {
     "kernelName": "pwsh"
    }
   },
   "outputs": [],
   "source": [
    "$QueryParms = @{\n",
    "    \"hostname\" = \"$($PrimarySQLServerInstance)\"\n",
    "    \"instance\" = \"MSSQLSERVER\"\n",
    "    \"IsRelic\" = \"false\"\n",
    "}\n",
    "\n",
    "$RSCMSQLInstance = Invoke-RubrikQuery -Path ./GetMSSQLInstance.gql -QueryParams $QueryParms\n",
    "$RSCMSQLInstance\n",
    "\n",
    "$QueryParms = @{\n",
    "    \"id\" = \"$($RSCMSQLInstance.id)\"\n",
    "}\n",
    " Invoke-RubrikQuery -Path ./PhysicalHostRefreshMutation.gql -QueryParams $QueryParms\n",
    "\n",
    "foreach ($SQLInstance in $SecondarySQLServerInstance){\n",
    "    $QueryParms = @{\n",
    "        \"hostname\" = \"$($SQLInstance)\"\n",
    "        \"instance\" = \"MSSQLSERVER\"\n",
    "        \"IsRelic\" = \"false\"\n",
    "    }\n",
    "    $RSCMSQLInstance = Invoke-RubrikQuery -Path ./GetMSSQLInstance.gql -QueryParams $QueryParms\n",
    "\n",
    "    $QueryParms = @{\n",
    "        \"id\" = \"$($RSCMSQLInstance.id)\"\n",
    "    }\n",
    "    Invoke-RubrikQuery -Path ./PhysicalHostRefreshMutation.gql -QueryParams $QueryParms\n",
    "}\n",
    "Start-Sleep -Seconds 45"
   ]
  },
  {
   "attachments": {},
   "cell_type": "markdown",
   "metadata": {},
   "source": [
    "# Remove Database from Availability Group"
   ]
  },
  {
   "cell_type": "code",
   "execution_count": null,
   "metadata": {
    "dotnet_interactive": {
     "language": "pwsh"
    },
    "polyglot_notebook": {
     "kernelName": "pwsh"
    }
   },
   "outputs": [],
   "source": [
    "Remove-DbaAgDatabase -SQLInstance $PrimarySQLServerInstance -Database $TargetDatabaseName -Confirm:$false -Verbose"
   ]
  },
  {
   "attachments": {},
   "cell_type": "markdown",
   "metadata": {},
   "source": [
    "# Remove Database from the SQL Server Instances"
   ]
  },
  {
   "cell_type": "code",
   "execution_count": null,
   "metadata": {
    "dotnet_interactive": {
     "language": "pwsh"
    },
    "polyglot_notebook": {
     "kernelName": "pwsh"
    }
   },
   "outputs": [],
   "source": [
    "foreach ($SQLInstance in $SecondarySQLServerInstance){\n",
    "    Remove-DbaDatabase -SqlInstance $SQLInstance -Database $TargetDatabaseName -Confirm:$false -Verbose\n",
    "}\n",
    "\n",
    "Remove-DbaDatabase -SqlInstance $PrimarySQLServerInstance -Database $TargetDatabaseName -Confirm:$false -Verbose"
   ]
  },
  {
   "attachments": {},
   "cell_type": "markdown",
   "metadata": {},
   "source": [
    "## Refresh the Hosts of the SQL Servers in RSC"
   ]
  },
  {
   "cell_type": "code",
   "execution_count": null,
   "metadata": {
    "dotnet_interactive": {
     "language": "pwsh"
    },
    "polyglot_notebook": {
     "kernelName": "pwsh"
    }
   },
   "outputs": [],
   "source": [
    "$QueryParms = @{\n",
    "    \"hostname\" = \"$($PrimarySQLServerInstance)\"\n",
    "    \"instance\" = \"MSSQLSERVER\"\n",
    "    \"IsRelic\" = \"false\"\n",
    "}\n",
    "\n",
    "$RSCMSQLInstance = Invoke-RubrikQuery -Path ./GetMSSQLInstance.gql -QueryParams $QueryParms\n",
    "$RSCMSQLInstance\n",
    "\n",
    "$QueryParms = @{\n",
    "    \"id\" = \"$($RSCMSQLInstance.id)\"\n",
    "}\n",
    " Invoke-RubrikQuery -Path ./PhysicalHostRefreshMutation.gql -QueryParams $QueryParms\n",
    "\n",
    "foreach ($SQLInstance in $SecondarySQLServerInstance){\n",
    "    $QueryParms = @{\n",
    "        \"hostname\" = \"$($SQLInstance)\"\n",
    "        \"instance\" = \"MSSQLSERVER\"\n",
    "        \"IsRelic\" = \"false\"\n",
    "    }\n",
    "    $RSCMSQLInstance = Invoke-RubrikQuery -Path ./GetMSSQLInstance.gql -QueryParams $QueryParms\n",
    "\n",
    "    $QueryParms = @{\n",
    "        \"id\" = \"$($RSCMSQLInstance.id)\"\n",
    "    }\n",
    "    Invoke-RubrikQuery -Path ./PhysicalHostRefreshMutation.gql -QueryParams $QueryParms\n",
    "}\n",
    "Start-Sleep -Seconds 45"
   ]
  },
  {
   "attachments": {},
   "cell_type": "markdown",
   "metadata": {},
   "source": [
    "## Get the ID of the Availability Group"
   ]
  },
  {
   "cell_type": "code",
   "execution_count": null,
   "metadata": {
    "dotnet_interactive": {
     "language": "pwsh"
    },
    "polyglot_notebook": {
     "kernelName": "pwsh"
    }
   },
   "outputs": [],
   "source": [
    "$QueryParms = @{\n",
    "    \"AvailabilityGroupName\" = $($AvailabilityGroupName)\n",
    "    \"IsRelic\" = \"false\"\n",
    "}\n",
    "$RSCMSSQLAvailabilityGroup = Invoke-RubrikQuery -Path ./GetMSSQLAvailabilityGroup.gql -QueryParams $QueryParms\n",
    "$RSCMSSQLAvailabilityGroup"
   ]
  },
  {
   "attachments": {},
   "cell_type": "markdown",
   "metadata": {},
   "source": [
    "## Get the ID of the Database"
   ]
  },
  {
   "cell_type": "code",
   "execution_count": null,
   "metadata": {
    "dotnet_interactive": {
     "language": "pwsh"
    },
    "polyglot_notebook": {
     "kernelName": "pwsh"
    }
   },
   "outputs": [],
   "source": [
    "$QueryParms = @{\n",
    "    \"fid\" = \"$($RSCMSSQLAvailabilityGroup.id)\"\n",
    "    \"DatabaseName\" = \"$($DatabaseName)\"\n",
    "    \"IsRelic\" = \"true\"\n",
    "}\n",
    "$RSCMSSQLDatabase = Invoke-RubrikQuery -Path ./GetMSSQLDatabaseFromAvailabilityGroup.gql -QueryParams $QueryParms -debug\n",
    "$RSCMSSQLDatabase.logicalChildConnection.nodes"
   ]
  },
  {
   "attachments": {},
   "cell_type": "markdown",
   "metadata": {},
   "source": [
    "## Get the Latest Recovery Point"
   ]
  },
  {
   "cell_type": "code",
   "execution_count": null,
   "metadata": {
    "dotnet_interactive": {
     "language": "pwsh"
    },
    "polyglot_notebook": {
     "kernelName": "pwsh"
    }
   },
   "outputs": [],
   "source": [
    "$QueryParms = @{\n",
    "    \"id\" = \"$($RSCMSSQLDatabase.logicalChildConnection.nodes[0].id)\"\n",
    "}\n",
    "$RSCMSSQLRecoverableRange = Invoke-RubrikQuery -Path ./MssqlDatabaseDetailsRecoverableRangesQuery.gql -QueryParams $QueryParms | Sort-Object {$_.data.endTime}\n",
    "$RSCMSSQLDatabaseLatestRecoveryPoint = ($RSCMSSQLRecoverableRange.data.endTime[-1]).ToUniversalTime().ToString('yyyy-MM-ddTHH:mm:ss.fffZ')\n",
    "$RSCMSSQLDatabaseLatestRecoveryPoint"
   ]
  },
  {
   "attachments": {},
   "cell_type": "markdown",
   "metadata": {},
   "source": [
    "# RESTORE FILELIST ONLY from Recovery Point"
   ]
  },
  {
   "cell_type": "code",
   "execution_count": null,
   "metadata": {
    "dotnet_interactive": {
     "language": "pwsh"
    },
    "polyglot_notebook": {
     "kernelName": "pwsh"
    }
   },
   "outputs": [],
   "source": [
    "$QueryParms = @{\n",
    "    \"input\" = @{\n",
    "        \"id\" = \"$($RSCMSSQLDatabase.logicalChildConnection.nodes[0].id)\"\n",
    "        \"time\" = \"$($RSCMSSQLDatabaseLatestRecoveryPoint)\"\n",
    "    }\n",
    "}\n",
    "$RSCMSSQLDatabaseFiles = Invoke-RubrikQuery -Path ./AllMssqlDatabaseRestoreFilesQuery.gql -QueryParams $QueryParms\n",
    "$RSCMSSQLDatabaseFiles.items\n",
    "$targetFilePaths = @(\n",
    "    @{\n",
    "        logicalName = \"$($RSCMSSQLDatabaseFiles.items[0].logicalName)\"\n",
    "        newFilename = \"$($TargetDatabaseName).mdf\"\n",
    "        exportPath = \"$($RSCMSSQLDatabaseFiles.items[0].originalPath)\"\n",
    "    }\n",
    "    @{\n",
    "        logicalName = \"$($RSCMSSQLDatabaseFiles.items[1].logicalName)\"\n",
    "        newFilename = \"$($TargetDatabaseName).ldf\"\n",
    "        exportPath = \"$($RSCMSSQLDatabaseFiles.items[1].originalPath)\"\n",
    "    }\n",
    ")\n",
    "$targetFilePaths"
   ]
  },
  {
   "attachments": {},
   "cell_type": "markdown",
   "metadata": {},
   "source": [
    "## Export the Database to the Secondary Replicas"
   ]
  },
  {
   "cell_type": "code",
   "execution_count": null,
   "metadata": {
    "dotnet_interactive": {
     "language": "pwsh"
    },
    "polyglot_notebook": {
     "kernelName": "pwsh"
    }
   },
   "outputs": [],
   "source": [
    "foreach ($SQLInstance in $SecondarySQLServerInstance){\n",
    "    $QueryParms = @{\n",
    "        \"hostname\" = \"$($SQLInstance)\"\n",
    "        \"instance\" = \"MSSQLSERVER\"\n",
    "        \"IsRelic\" = \"false\"\n",
    "    }\n",
    "\n",
    "    $RSCMSQLInstance = Invoke-RubrikQuery -Path ./GetMSSQLInstance.gql -QueryParams $QueryParms\n",
    "    $RSCMSQLInstance    \n",
    "\n",
    "    $QueryParms = @{\n",
    "        \"input\" = @{\n",
    "            \"id\" = \"$($RSCMSSQLDatabase.logicalChildConnection.nodes[0].id)\"\n",
    "            \"config\" = @{\n",
    "                \"recoveryPoint\" = @{\"date\" = \"$($RSCMSSQLDatabaseLatestRecoveryPoint)\"}\n",
    "                \"targetInstanceId\" = \"$($RSCMSQLInstance.physicalChildConnection.nodes.id)\"\n",
    "                \"targetDatabaseName\" = \"$($TargetDatabaseName)\"\n",
    "                # \"targetDataFilePath\" = \"c:\\mnt\\sqldata\"\n",
    "                # \"targetLogFilePath\" = \"c:\\mnt\\sqllogs\"\n",
    "                \"targetFilePaths\" = $targetFilePaths\n",
    "                \"allowOverwrite\" = $true\n",
    "                \"finishRecovery\" = $false\n",
    "            }\n",
    "        }\n",
    "    }\n",
    "    Invoke-RubrikQuery -Path ./MssqlDatabaseExportMutation.gql -QueryParams $QueryParms\n",
    "}\n",
    "# Start-Sleep -Seconds 45"
   ]
  },
  {
   "attachments": {},
   "cell_type": "markdown",
   "metadata": {},
   "source": [
    "# Export the Database to the Primary Replica"
   ]
  },
  {
   "cell_type": "code",
   "execution_count": null,
   "metadata": {
    "dotnet_interactive": {
     "language": "pwsh"
    },
    "polyglot_notebook": {
     "kernelName": "pwsh"
    }
   },
   "outputs": [],
   "source": [
    "$QueryParms = @{\n",
    "    \"hostname\" = \"$($PrimarySQLServerInstance)\"\n",
    "    \"instance\" = \"MSSQLSERVER\"\n",
    "    \"IsRelic\" = \"false\"\n",
    "}\n",
    "$RSCMSQLInstance = Invoke-RubrikQuery -Path ./GetMSSQLInstance.gql -QueryParams $QueryParms\n",
    "$RSCMSQLInstance    \n",
    "\n",
    "$QueryParms = @{\n",
    "    \"input\" = @{\n",
    "        \"id\" = \"$($RSCMSSQLDatabase.logicalChildConnection.nodes[0].id)\"\n",
    "        \"config\" = @{\n",
    "            \"recoveryPoint\" = @{\"date\" = \"$($RSCMSSQLDatabaseLatestRecoveryPoint)\"}\n",
    "            \"targetInstanceId\" = \"$($RSCMSQLInstance.physicalChildConnection.nodes.id)\"\n",
    "            \"targetDatabaseName\" = \"$($TargetDatabaseName)\"\n",
    "            # \"targetDataFilePath\" = \"c:\\mnt\\sqldata\"\n",
    "            # \"targetLogFilePath\" = \"c:\\mnt\\sqllogs\"\n",
    "            \"targetFilePaths\" = $targetFilePaths\n",
    "            \"allowOverwrite\" = $true\n",
    "            \"finishRecovery\" = $true\n",
    "        }\n",
    "    }\n",
    "}\n",
    "Invoke-RubrikQuery -Path ./MssqlDatabaseExportMutation.gql -QueryParams $QueryParms\n",
    "Start-Sleep -Seconds 45"
   ]
  },
  {
   "attachments": {},
   "cell_type": "markdown",
   "metadata": {},
   "source": [
    "# Add database into availability group on primary replica"
   ]
  },
  {
   "cell_type": "code",
   "execution_count": null,
   "metadata": {
    "dotnet_interactive": {
     "language": "pwsh"
    },
    "polyglot_notebook": {
     "kernelName": "pwsh"
    }
   },
   "outputs": [],
   "source": [
    "$Query = \"ALTER AVAILABILITY GROUP [$($AvailabilityGroupName)] ADD DATABASE [$($TargetDatabaseName)];\"\n",
    "Invoke-DbaQuery -SqlInstance $PrimarySQLServerInstance -Query $Query"
   ]
  },
  {
   "cell_type": "code",
   "execution_count": null,
   "metadata": {
    "dotnet_interactive": {
     "language": "pwsh"
    },
    "polyglot_notebook": {
     "kernelName": "pwsh"
    }
   },
   "outputs": [],
   "source": [
    "foreach ($SQLInstance in $SecondarySQLServerInstance){\n",
    "    $Query = \"ALTER DATABASE [$($DatabaseName)] SET HADR AVAILABILITY GROUP = [$($AvailabilityGroupName)];\"\n",
    "    Invoke-DbaQuery -SqlInstance $SQLInstance -Query $Query\n",
    "}"
   ]
  }
 ],
 "metadata": {
  "kernelspec": {
   "display_name": ".NET (C#)",
   "language": "C#",
   "name": ".net-csharp"
  },
  "language_info": {
   "name": "polyglot-notebook"
  },
  "polyglot_notebook": {
   "kernelInfo": {
    "defaultKernelName": "csharp",
    "items": [
     {
      "aliases": [],
      "name": "csharp"
     },
     {
      "aliases": [],
      "languageName": "pwsh",
      "name": "pwsh"
     },
     {
      "aliases": [],
      "languageName": "T-SQL",
      "name": "sql-AGDemo"
     },
     {
      "aliases": [],
      "languageName": "T-SQL",
      "name": "sql-AGDemo-1a"
     },
     {
      "aliases": [],
      "languageName": "T-SQL",
      "name": "sql-AGDemo-1b"
     },
     {
      "aliases": [],
      "languageName": "T-SQL",
      "name": "sql-AGDemo-1c"
     }
    ]
   }
  }
 },
 "nbformat": 4,
 "nbformat_minor": 2
}
