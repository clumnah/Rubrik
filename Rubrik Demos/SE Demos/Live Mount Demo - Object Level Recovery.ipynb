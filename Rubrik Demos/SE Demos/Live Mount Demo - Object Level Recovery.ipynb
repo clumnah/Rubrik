{
    "metadata": {
        "kernelspec": {
            "name": "SQL",
            "display_name": "SQL",
            "language": "sql"
        },
        "language_info": {
            "name": "sql",
            "version": ""
        },
        "extensions": {
            "notebookviews": {
                "version": 2,
                "views": []
            }
        }
    },
    "nbformat_minor": 2,
    "nbformat": 4,
    "cells": [
        {
            "cell_type": "markdown",
            "source": [
                "# Pre-Work\n",
                "\n",
                "Before you continue, run the below query to get the schema you have access to. You will need this to update the queries below."
            ],
            "metadata": {
                "azdata_cell_guid": "fca42c44-a2bc-45c2-887c-ac0bd0fe320e"
            },
            "attachments": {}
        },
        {
            "cell_type": "code",
            "source": [
                "-- Get Schema Name\n",
                "SELECT REPLACE(REPLACE(name, ' ', ''), 'RUBRIKDEMO\\', '') as 'Schema Name'\n",
                "FROM sys.server_principals WHERE principal_id > 10"
            ],
            "metadata": {
                "azdata_cell_guid": "8b046bd4-05a9-405c-aa06-07e93ca4ae61",
                "language": "sql",
                "tags": [
                    "hide_input"
                ]
            },
            "outputs": [],
            "execution_count": null
        },
        {
            "cell_type": "markdown",
            "source": [
                "# Live Mount Demo"
            ],
            "metadata": {
                "language": "",
                "azdata_cell_guid": "153416c1-4379-43de-803f-23ca246f4083",
                "extensions": {
                    "notebookviews": {
                        "views": []
                    }
                }
            },
            "attachments": {}
        },
        {
            "cell_type": "markdown",
            "source": [
                "## Look at the environment before the Live Mount\n",
                "\n",
                "In this section we want to look at the current list of databases and the size of each database. This way we can understand what is out there currently before we make a change and create a Live Mount. Looking at the left hand side of your screen you will see the SQL Server you are connect to and the list of databases under the database folder. The below shows you the database its size, which you cannot easily get from the left hand side."
            ],
            "metadata": {
                "azdata_cell_guid": "c8db8870-22d8-45c3-9755-c35e23908696",
                "extensions": {
                    "notebookviews": {
                        "views": []
                    }
                }
            },
            "attachments": {}
        },
        {
            "cell_type": "code",
            "source": [
                "-- List database and its size\n",
                "WITH fs\n",
                "AS\n",
                "(\n",
                "    SELECT database_id, type, size * 8.0 / 1024 size\n",
                "    FROM sys.master_files\n",
                ")\n",
                "SELECT name\n",
                "    , (SELECT SUM(size) FROM fs WHERE type = 0 AND fs.database_id = db.database_id) DataFileSizeInMB\n",
                "    , (SELECT SUM(size) FROM fs WHERE type = 1 AND fs.database_id = db.database_id) LogFileSizeInMB\n",
                "FROM sys.databases db\n",
                "WHERE db.database_id > 4\n",
                "ORDER BY name"
            ],
            "metadata": {
                "azdata_cell_guid": "b1805970-2095-4d29-ae84-782d3460a36b",
                "language": "sql",
                "tags": [],
                "extensions": {
                    "notebookviews": {
                        "views": []
                    }
                }
            },
            "outputs": [],
            "execution_count": null
        },
        {
            "cell_type": "markdown",
            "source": [
                "# Do a bad thing"
            ],
            "metadata": {
                "azdata_cell_guid": "8122cdde-fb7e-4f61-8cd5-130b57fbbef5"
            },
            "attachments": {}
        },
        {
            "cell_type": "markdown",
            "source": [
                "## Delete without a WHERE clause\n",
                "\n",
                "A user is doing some work in the database. They need to do some clean up and they want to delete 1 entry from a table. However instead they made a mistake and left their WHERE clause commented out and mistakenly deleted all records from the table."
            ],
            "metadata": {
                "azdata_cell_guid": "1823bf42-8314-4f1b-9d6f-7f8110302df9"
            },
            "attachments": {}
        },
        {
            "cell_type": "code",
            "source": [
                "-- Pick one of the below tables and uncomment out the line by removing the -- at the beginning of line 6, 10 or 14\n",
                "-- Update the schema name to be the value you received in the Pre-Work section. \n",
                "-- Update the table name to have 01-05 at the end. \n",
                "\n",
                "-- DC Characters\n",
                "-- DELETE FROM [GaiaSharedAccountGroup01].[DC_Characters_01] \n",
                "-- WHERE name = 'thomas wayne (new earth)'\n",
                "\n",
                "-- Marvel Characters\n",
                "-- DELETE FROM [GaiaSharedAccountGroup01].[Marvel_Characters_01] \n",
                "-- WHERE name = 'charles xavier (earth-616)'\n",
                "\n",
                "-- Netflix Titles\n",
                "-- DELETE FROM [GaiaSharedAccountGroup01].[Netflix_Titles_01] \n",
                "-- WHERE title = 'GoodFellas'\n",
                ""
            ],
            "metadata": {
                "language": "sql",
                "azdata_cell_guid": "cf16b93b-49f8-48c2-83a9-1ee7e378b755",
                "extensions": {
                    "notebookviews": {
                        "views": []
                    }
                },
                "tags": []
            },
            "outputs": [],
            "execution_count": null
        },
        {
            "cell_type": "markdown",
            "source": [
                "## Live Mount a Database\n",
                "\n",
                "A databaes of any size can be Live Mounted, but for this demo, take the largest database, which will either be named Cork or PaloAlto.\n",
                "\n",
                "  \n",
                "\n",
                "To create the Live Mount, you will need to log into **Rubrik Security Cloud** (RSC). You can follow these steps to create your Live Mount. \n",
                "\n",
                "[Rubrik Recovery Option 3: Live Mount](https://rubrik.atlassian.net/wiki/spaces/SEK/pages/2472444754/Recovery+Option+3%3A+Live+Mount)"
            ],
            "metadata": {
                "language": "sql",
                "azdata_cell_guid": "e5887ad4-da3f-4b59-b318-b0a7d43767ba",
                "extensions": {
                    "notebookviews": {
                        "views": []
                    }
                }
            },
            "attachments": {}
        },
        {
            "cell_type": "markdown",
            "source": [
                "## Show the Location of the Database Files\n",
                "\n",
                "The below section shows where all of the files are located for each database. As you can see, \"normal\" databases are located on the C drive on mount points. A Live Mount database is located on a SMB3 share located on the Rubrik storage. \n",
                "\n",
                "  \n",
                "\n",
                "A Live Mounted database is a fully functional database. Any read or write operation that you can do against any other database on the SQL Server can be done against one that is Live Mounted. The only difference between a Live Mounted database and a \"normal\" database is the storage it sits on. A \"normal\" database sits on your directly attached storage allocated from your SAN, while a Live Mounted database is on Rubrik storage attached via a secure SMB3 share."
            ],
            "metadata": {
                "language": "sql",
                "azdata_cell_guid": "a438f784-07c0-47c6-8067-19c39507291d",
                "extensions": {
                    "notebookviews": {
                        "views": []
                    }
                }
            },
            "attachments": {}
        },
        {
            "cell_type": "code",
            "source": [
                "-- Show the Location of the Database Files\n",
                "SELECT DB_NAME(database_id) as 'Database Name'\n",
                "    , type_desc as 'File Type'\n",
                "    , name as 'Logical Name'\n",
                "    , physical_name as 'Physical Name'\n",
                "    , state_desc\n",
                "    , size * 8.0 / 1024 as 'File in MB'\n",
                "FROM sys.master_files\n",
                "WHERE database_id > 4\n",
                "ORDER BY database_id"
            ],
            "metadata": {
                "language": "sql",
                "azdata_cell_guid": "ce8dc5cf-7526-4f63-9ae9-70a216a14c59",
                "tags": [],
                "extensions": {
                    "notebookviews": {
                        "views": []
                    }
                }
            },
            "outputs": [],
            "execution_count": null
        },
        {
            "cell_type": "markdown",
            "source": [
                "## Put the records back"
            ],
            "metadata": {
                "language": "sql",
                "azdata_cell_guid": "ebcf0296-e8e2-421e-aff5-70d2fe9273d7"
            },
            "attachments": {}
        },
        {
            "cell_type": "code",
            "source": [
                "-- Pick one of the below tables and uncomment out the line by removing the -- at the beginning of the line\n",
                "\n",
                "-- DC Characters\n",
                "-- INSERT INTO [GaiaSharedAccountGroup01].[DC_Characters_01]\n",
                "-- SELECT * FROM [LIVE MOUNT DATABASE].[GaiaSharedAccountGroup02].[DC_Characters_01]\n",
                "-- WHERE name = 'thomas wayne (new earth)'\n",
                "\n",
                "-- Marvel Characters\n",
                "-- INSERT INTO [GaiaSharedAccountGroup01].[Marvel_Characters_01]\n",
                "-- SELECT * FROM [LIVE MOUNT DATABASE].[GaiaSharedAccountGroup01].[Marvel_Characters_01]\n",
                "-- WHERE name = 'charles xavier (earth-616)'\n",
                "\n",
                "-- Netflix Titles\n",
                "-- INSERT INTO [GaiaSharedAccountGroup01].[Netflix_Titles_01]\n",
                "-- SELECT * FROM [LIVE MOUNT DATABASE].[GaiaSharedAccountGroup02].[Netflix_Titles_01]\n",
                "-- WHERE title = 'GoodFellas'"
            ],
            "metadata": {
                "language": "sql",
                "azdata_cell_guid": "117cceda-49f9-4196-be0a-4e87ca759395",
                "extensions": {
                    "notebookviews": {
                        "views": []
                    }
                }
            },
            "outputs": [],
            "execution_count": null
        },
        {
            "cell_type": "markdown",
            "source": [
                "## Confirm the records are back in the table"
            ],
            "metadata": {
                "language": "sql",
                "azdata_cell_guid": "dfd9ad54-b405-4070-8f1e-0d4e49849608"
            },
            "attachments": {}
        },
        {
            "cell_type": "code",
            "source": [
                "-- Pick one of the below tables and uncomment out the line by removing the -- at the beginning of the line\n",
                "\n",
                "-- DC Characters\n",
                "SELECT * FROM [GaiaSharedAccountGroup02].[DC_Characters_01]\n",
                "WHERE name = 'thomas wayne (new earth)'\n",
                "\n",
                "\n",
                "-- Marvel Characters\n",
                "SELECT * FROM [GaiaSharedAccountGroup01].[Marvel_Characters_01]\n",
                "WHERE name = 'charles xavier (earth-616)'\n",
                "\n",
                "-- Netflix Titles\n",
                "SELECT * FROM [GaiaSharedAccountGroup02].[Netflix_Titles_01]\n",
                "WHERE title = 'GoodFellas'"
            ],
            "metadata": {
                "language": "sql",
                "azdata_cell_guid": "eb46babe-1dde-49f8-8ad4-0fe7bcd12746"
            },
            "outputs": [],
            "execution_count": null
        },
        {
            "cell_type": "markdown",
            "source": [
                "# Clean Up\n",
                "\n",
                "Now that the records are back in the table, we can get rid of the Live Mounted database. Go back into RSC and unount the database you mounted."
            ],
            "metadata": {
                "azdata_cell_guid": "fe13175e-f534-491e-a239-3f21eebc53cb"
            },
            "attachments": {}
        },
        {
            "cell_type": "markdown",
            "source": [
                "## Confirm that the Live Mount is not on the SQL Server"
            ],
            "metadata": {
                "azdata_cell_guid": "ab09dddd-2891-40bd-be9f-9d0b7af991c6"
            },
            "attachments": {}
        },
        {
            "cell_type": "code",
            "source": [
                "-- List database and its size\n",
                "WITH fs\n",
                "AS\n",
                "(\n",
                "    SELECT database_id, type, size * 8.0 / 1024 size\n",
                "    FROM sys.master_files\n",
                ")\n",
                "SELECT name\n",
                "    , (SELECT SUM(size) FROM fs WHERE type = 0 AND fs.database_id = db.database_id) DataFileSizeInMB\n",
                "    , (SELECT SUM(size) FROM fs WHERE type = 1 AND fs.database_id = db.database_id) LogFileSizeInMB\n",
                "FROM sys.databases db\n",
                "WHERE db.database_id > 4\n",
                "ORDER BY name"
            ],
            "metadata": {
                "azdata_cell_guid": "b7c5fabe-7a7e-46b2-af91-9c57131f0add",
                "language": "sql"
            },
            "outputs": [],
            "execution_count": null
        }
    ]
}