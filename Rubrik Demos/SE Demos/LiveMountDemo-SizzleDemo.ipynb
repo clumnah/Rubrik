{
    "metadata": {
        "kernelspec": {
            "name": "SQL",
            "display_name": "SQL",
            "language": "sql"
        },
        "language_info": {
            "name": "sql",
            "version": ""
        }
    },
    "nbformat_minor": 2,
    "nbformat": 4,
    "cells": [
        {
            "cell_type": "markdown",
            "source": [
                "# Live Mount Demo"
            ],
            "metadata": {
                "azdata_cell_guid": "153416c1-4379-43de-803f-23ca246f4083",
                "language": ""
            },
            "attachments": {}
        },
        {
            "cell_type": "markdown",
            "source": [
                "## Look at the environment before the Live Mount\n",
                "\n",
                "In this section we want to look at the current list of databases and the size of each database. This way we can understand what is out there currently before we make a change and create a Live Mount. Looking at the left hand side of your screen you will see the SQL Server you are connect to and the list of databases under the database folder. The below shows you the database its size, which you cannot easily get from the left hand side."
            ],
            "metadata": {
                "azdata_cell_guid": "c8db8870-22d8-45c3-9755-c35e23908696"
            },
            "attachments": {}
        },
        {
            "cell_type": "code",
            "source": [
                "-- List database and its size\n",
                "WITH fs\n",
                "AS\n",
                "(\n",
                "    SELECT database_id, type, size * 8.0 / 1024 size\n",
                "    FROM sys.master_files\n",
                ")\n",
                "SELECT name\n",
                "    , (SELECT SUM(size) FROM fs WHERE type = 0 AND fs.database_id = db.database_id) DataFileSizeInMB\n",
                "    , (SELECT SUM(size) FROM fs WHERE type = 1 AND fs.database_id = db.database_id) LogFileSizeInMB\n",
                "FROM sys.databases db\n",
                "WHERE db.database_id > 4\n",
                "ORDER BY name"
            ],
            "metadata": {
                "azdata_cell_guid": "b1805970-2095-4d29-ae84-782d3460a36b",
                "language": "sql",
                "tags": []
            },
            "outputs": [],
            "execution_count": null
        },
        {
            "cell_type": "markdown",
            "source": [
                "## Live Mount a Database\n",
                "\n",
                "A database of any size can be Live Mounted, but for this demo, take the largest database, which will either be named Cork or PaloAlto.\n",
                "\n",
                "To create the Live Mount, you will need to log into **Rubrik Security Cloud** (RSC). You can follow these steps to create your Live Mount. \n",
                "\n",
                "[Rubrik Recovery Option 3: Live Mount](https://rubrik.atlassian.net/wiki/spaces/SEK/pages/2472444754/Recovery+Option+3%3A+Live+Mount)"
            ],
            "metadata": {
                "azdata_cell_guid": "e5887ad4-da3f-4b59-b318-b0a7d43767ba",
                "language": "sql"
            },
            "attachments": {}
        },
        {
            "cell_type": "markdown",
            "source": [
                "## Look at the environment after the Live Mount\n",
                "\n",
                "In this section we want to look at the new list of databases and the size of each database. Now we can see that a Live Mounted Database is there and how large it is."
            ],
            "metadata": {
                "language": "sql",
                "azdata_cell_guid": "3aec5e4c-dec0-4907-8baa-44a7ca6b8042"
            },
            "attachments": {}
        },
        {
            "cell_type": "code",
            "source": [
                "-- List database and its size\n",
                "WITH fs\n",
                "AS\n",
                "(\n",
                "    SELECT database_id, type, size * 8.0 / 1024 size\n",
                "    FROM sys.master_files\n",
                ")\n",
                "SELECT name\n",
                "    , (SELECT SUM(size) FROM fs WHERE type = 0 AND fs.database_id = db.database_id) DataFileSizeInMB\n",
                "    , (SELECT SUM(size) FROM fs WHERE type = 1 AND fs.database_id = db.database_id) LogFileSizeInMB\n",
                "FROM sys.databases db\n",
                "WHERE db.database_id > 4\n",
                "ORDER BY name"
            ],
            "metadata": {
                "language": "sql",
                "azdata_cell_guid": "c1c7d06f-0116-40a5-b36e-9104ddc2c696"
            },
            "outputs": [],
            "execution_count": null
        },
        {
            "cell_type": "markdown",
            "source": [
                "## Show the Location of the Database Files\n",
                "\n",
                "The below section shows where all of the files are located for each database. As you can see, \"normal\" databases are located on the C drive on mount points. A Live Mount database is located on a SMB3 share located on the Rubrik storage. \n",
                "\n",
                "A Live Mounted database is a fully functional database. Any read or write operation that you can do against any other database on the SQL Server can be done against one that is Live Mounted. The only difference between a Live Mounted database and a \"normal\" database is the storage it sits on. A \"normal\" database sits on your attached storage allocated from your SAN, while a Live Mounted database is on Rubrik storage attached via a secure SMB3 share."
            ],
            "metadata": {
                "azdata_cell_guid": "a438f784-07c0-47c6-8067-19c39507291d",
                "language": "sql"
            },
            "attachments": {}
        },
        {
            "cell_type": "code",
            "source": [
                "-- Show the Location of the Database Files\n",
                "SELECT DB_NAME(database_id) as 'Database Name'\n",
                "    , type_desc as 'File Type'\n",
                "    , name as 'Logical Name'\n",
                "    , physical_name as 'Physical Name'\n",
                "    , state_desc\n",
                "    , size * 8.0 / 1024 as 'File in MB'\n",
                "FROM sys.master_files\n",
                "WHERE database_id > 4\n",
                "ORDER BY database_id"
            ],
            "metadata": {
                "azdata_cell_guid": "ce8dc5cf-7526-4f63-9ae9-70a216a14c59",
                "language": "sql",
                "tags": []
            },
            "outputs": [],
            "execution_count": null
        },
        {
            "cell_type": "markdown",
            "source": [
                "## Unmount the Live Mounted Database\n",
                "\n",
                "You have seen that a database can be made available from a backup in a very short time frame. This database is fully functional and read write. When you are done with it, you will want to unmount it from the Rubrik UI. This unmounting process will remove the database from the SQL Server, remove the SMB3 share off of the Rubrik storage, and delete all changes that were made while the database was Live Mounted. "
            ],
            "metadata": {
                "azdata_cell_guid": "558ceace-4711-4cff-8a5c-16a90bfddc58",
                "language": "sql"
            },
            "attachments": {}
        },
        {
            "cell_type": "markdown",
            "source": [
                "# Live Mount Use Cases\n",
                "\n",
                "The performance profile of a Live Mounted database sitting on Rubrik storage will be different than a database sitting on storage allocated from your storage array in your datacenter. A Live Mounted database will not provide the same level query performance that a database sitting on your storage array will. What this means is that you will not run performance workloads against a Live Mounted database. However there are plenty of places you can use Live Mount effectively.\n",
                "\n",
                "- **DBA Backup Validation Testing:** No matter the product you trust to do your backup, if you do not test your backup, you do not have a backup. The way DBAs will often test a backup is by restoring the backup to some other server. This requires resources that are not always available to a DBA. A MSSQL Live Mount IS a database restore. Rubrik is rehydrating the database and applying transaction log backups to provide a fully functional, read/write database. If you can Live Mount your backup, you just proved the backup is good and if you need it in the future, you can get it. \n",
                "- **Object Level Recovery:** Often is the case where a mistake is done inside of a table. To recover from that mistake, DBAs need to restore from a backup. This often requires additional storage, which requires paperwork, negotiations with the Storage Team, and Server Team needs to add the additional storage for a temporary use, and then time to restore the backup. Then to find out, the backup chosen is not correct and you have to restart the process all over again. Live Mount allows for the database to be up and running in minutes, without the need for additional storage, or configuration on the server team. If you need to iterate, you can tear it down and retry from a different point in time quickly. Once you find your correct backup, recover the object that was broken.\n",
                "- **Developer Testing:** Because a Live Mount does not use any storage on the target SQL Server, you can give a developer a copy of a databae so they can do functional testing or investigate a problem with their application. \n",
                "- **DevOps Automation:** Every DBA will take a backup before they roll out a change. Now they can Live Mount that backup, run their change against the Live Mount and see if the change will work. If it doesn’t they can tear it down and iterate on the failure all without using additional storage not the SQL Server and also preventing an outage to have to take longer than necessary because they proved their change would work before they did the change. \n",
                "- **Database Migration Application Smoke Test Validation:** Microsoft is coming out with new versions of SQL Server every couple of years. To keep up is a daunting task. With Live Mount, you can quickly recover a databaes to a new SQL Server with that new version of SQL and see what will break in your application before you do the migration. This allows for DBAs and developers to more quickly iterate on the migration process planning."
            ],
            "metadata": {
                "azdata_cell_guid": "5df1a7a5-1e0d-442f-a378-4d287f245717",
                "language": ""
            },
            "attachments": {}
        }
    ]
}