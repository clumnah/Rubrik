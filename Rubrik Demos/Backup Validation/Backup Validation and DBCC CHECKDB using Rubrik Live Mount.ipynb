{
 "cells": [
  {
   "cell_type": "markdown",
   "metadata": {
    "azdata_cell_guid": "9c17b896-0338-4392-8523-f1c68ca42bdb",
    "dotnet_interactive": {
     "language": "pwsh"
    }
   },
   "source": [
    "# Backup Validation and DBCC CHECKDB using Rubrik Live Mount"
   ]
  },
  {
   "cell_type": "markdown",
   "metadata": {
    "dotnet_interactive": {
     "language": "csharp"
    },
    "polyglot_notebook": {
     "kernelName": "csharp"
    }
   },
   "source": [
    "## Backup Validatation of a database using Live Mount"
   ]
  },
  {
   "cell_type": "markdown",
   "metadata": {
    "dotnet_interactive": {
     "language": "csharp"
    },
    "polyglot_notebook": {
     "kernelName": "csharp"
    }
   },
   "source": [
    "Live mount allows for near instant recovery of a database. If a database restore/export normally takes hours, then live mounting a database will take a few minutes. Live Mount does a full recovery of a database to either the same SQL Server Instance with a different database name or another SQL Server Instance with the same or different database name. The recovery of the database is much faster, because Rubrik does not need to copy the contents of the backup from the Rubrik Cluster back to the SQL Server. All of the recovery work is done on the Rubrik cluster itself. Then the database files are presented to the SQL Server Instance via a secure SMB3 share that is only accessible by the machine the share is mounted to.\n",
    "\n",
    "Live Mounting a database is great for a lot of different use cases:\n",
    "- DBA Backup validation testing\n",
    "- Object level recovery\n",
    "- Developer testing\n",
    "- DevOps Automation\n",
    "- Reporting databases\n",
    "- Database migration application smoke test validation.\n",
    "\n",
    "A key parameter is RecoveryDateTime. All dates in Rubrik are stored in UTC format. This parameter is expecting a fully qualified date and time in UTC format. example value is 2018-08-01T02:00:00.000Z. In the example below, we are pulling the latest recovery point that Rubrik knows about.\n",
    "\n",
    "**This article serves as a way to demonstrate how to use Live Mount for Backup Validation.**\n",
    "\n",
    "***The code examples below make use of the Rubrik, SQL Server and dbatools Powershell Modules. This is meant to be an example and not the explicit way to achieve backup validation and database integrity checks. Please review this content and use as a way to write your own validation process.***"
   ]
  },
  {
   "cell_type": "markdown",
   "metadata": {
    "dotnet_interactive": {
     "language": "csharp"
    },
    "polyglot_notebook": {
     "kernelName": "csharp"
    }
   },
   "source": [
    "## Set up environment for all next steps. "
   ]
  },
  {
   "cell_type": "code",
   "execution_count": null,
   "metadata": {
    "azdata_cell_guid": "231ca119-82c9-4157-a77b-84eea3b0bcd8",
    "dotnet_interactive": {
     "language": "pwsh"
    },
    "language": "dotnet-interactive.pwsh",
    "tags": [],
    "vscode": {
     "languageId": "polyglot-notebook"
    }
   },
   "outputs": [],
   "source": [
    "# Rubrik Connection Information\n",
    "# $Server = \"10.8.49.101\"\n",
    "# $ServiceAccountID = \"User:::6acf798b-ffed-484a-a484-80846d5c6be2\"\n",
    "# $Secret = \"UI9TWr3uPflxjbr1D9ID8gvsmN6kgmygdDD0W9Og8lLi0a1vBPVZ3NvqVKjkaYwS+B2tlSYZF5tPvhzU/03X\"\n",
    "$ClientID = op read op://Rubrik/perfpod-cdm02_ServiceAccount/username\n",
    "$ClientSecret = op read op://Rubrik/perfpod-cdm02_ServiceAccount/credential\n",
    "$AccessTokenURI = op read op://Rubrik/perfpod-cdm02_ServiceAccount/hostname\n",
    "\n",
    "# Source Database Information\n",
    "$SourceSQLServerInstance = \"rp-sql19s-001.perf.rubrik.com\"\n",
    "$SourceDatabaseName = \"AdventureWorks2019\"\n",
    "\n",
    "# Target Database Information\n",
    "$TargetSQLServerInstance = \"rp-sql19s-001.perf.rubrik.com\"\n",
    "$LiveMountName = \"AdventureWorks2019_LiveMount\""
   ]
  },
  {
   "cell_type": "markdown",
   "metadata": {
    "dotnet_interactive": {
     "language": "csharp"
    },
    "polyglot_notebook": {
     "kernelName": "csharp"
    }
   },
   "source": [
    "## Mount the database to a SQL Server"
   ]
  },
  {
   "cell_type": "markdown",
   "metadata": {
    "dotnet_interactive": {
     "language": "csharp"
    },
    "polyglot_notebook": {
     "kernelName": "csharp"
    }
   },
   "source": [
    "The below example will live mount a database to the latest recovery point that Rubrik knows about. Depending on the recovery model of the database and the backups that have been run against the database, this could include the snapshot and the transaction log backups. "
   ]
  },
  {
   "cell_type": "code",
   "execution_count": null,
   "metadata": {
    "azdata_cell_guid": "54ba6624-d81b-497e-b4cf-073303b076e5",
    "dotnet_interactive": {
     "language": "pwsh"
    },
    "language": "dotnet-interactive.pwsh",
    "vscode": {
     "languageId": "polyglot-notebook"
    }
   },
   "outputs": [],
   "source": [
    "# Connect-Rubrik with a Service Account\n",
    "Connect-Rubrik -Server $AccessTokenURI -id $ClientID -Secret $ClientSecret\n",
    "\n",
    "# Get database information from Rubrik\n",
    "$RubrikDatabase = Get-RubrikDatabase -Name $SourceDatabaseName -ServerInstance $SourceSQLServerInstance\n",
    "\n",
    "#Mount a database to a SQL Server\n",
    "$TargetInstance = Get-RubrikSQLInstance -ServerInstance $TargetSQLServerInstance\n",
    "$RubrikRequest = New-RubrikDatabaseMount -id $RubrikDatabase.id `\n",
    "\t-TargetInstanceId $TargetInstance.id `\n",
    "\t-MountedDatabaseName $LiveMountName `\n",
    "\t-recoveryDateTime (Get-date (Get-RubrikDatabase -id $RubrikDatabase.id).latestRecoveryPoint) `\n",
    "    -Confirm:$false\n",
    "Get-RubrikRequest -id $RubrikRequest.id -Type mssql -WaitForCompletion\n",
    "Disconnect-Rubrik"
   ]
  },
  {
   "cell_type": "markdown",
   "metadata": {
    "dotnet_interactive": {
     "language": "csharp"
    },
    "polyglot_notebook": {
     "kernelName": "csharp"
    }
   },
   "source": [
    "## Confirm that database is live mounted\n",
    "A Live mount of a database is the equivalent to doing a T-SQL Restore with your native backups. SQL Server has recovered the snapshot via the SQL Server VSS Writer, and if applicable, rolled the database forward to a point in time chosen by the user. This means we have applied all transactions from the time the snapshot has happened until the point in time chosen. Once a database has been Live Mounted to a SQL Server, the database is ready for any read/write query you would like to run. "
   ]
  },
  {
   "cell_type": "code",
   "execution_count": null,
   "metadata": {
    "azdata_cell_guid": "0b473810-f76a-4e83-83c9-1ae323bb6ac4",
    "dotnet_interactive": {
     "language": "pwsh"
    },
    "language": "dotnet-interactive.pwsh",
    "vscode": {
     "languageId": "polyglot-notebook"
    }
   },
   "outputs": [],
   "source": [
    "$Query = \"SELECT name, state_desc FROM sys.databases\"\n",
    "Invoke-Sqlcmd -ServerInstance $TargetSQLServerInstance -Query $Query | Format-Table"
   ]
  },
  {
   "cell_type": "markdown",
   "metadata": {
    "dotnet_interactive": {
     "language": "csharp"
    },
    "polyglot_notebook": {
     "kernelName": "csharp"
    }
   },
   "source": [
    "## DBCC CHECKDB on Live Mounted Database"
   ]
  },
  {
   "cell_type": "markdown",
   "metadata": {
    "dotnet_interactive": {
     "language": "csharp"
    },
    "polyglot_notebook": {
     "kernelName": "csharp"
    }
   },
   "source": [
    "### Look Where Live Mount Database Files Reside\n",
    "A Live Mounted database is a database that resides on the Rubrik Storage. It is then presented back to the SQL Server via an secure SMB3 share. When you look at the database files, you will see they reside on a UNC path. "
   ]
  },
  {
   "cell_type": "code",
   "execution_count": null,
   "metadata": {
    "azdata_cell_guid": "ce9cc84f-8056-4c55-b0a4-0b7453f6c415",
    "dotnet_interactive": {
     "language": "pwsh"
    },
    "language": "dotnet-interactive.pwsh",
    "vscode": {
     "languageId": "polyglot-notebook"
    }
   },
   "outputs": [],
   "source": [
    "$Query = \"SELECT DB_NAME() as DB_Name\n",
    ", type_desc\n",
    ", name as logical_name\n",
    ", physical_name\n",
    "FROM sys.database_files\"\n",
    "Invoke-Sqlcmd -ServerInstance $TargetSQLServerInstance -Query $Query -Database $LiveMountName"
   ]
  },
  {
   "cell_type": "markdown",
   "metadata": {
    "dotnet_interactive": {
     "language": "csharp"
    },
    "polyglot_notebook": {
     "kernelName": "csharp"
    }
   },
   "source": [
    "Because this database is sitting on a UNC path, network latency can slow down access to the files. Additionally, the files are not sitting on your production storage array, so performance will not be the same. When you do a DBCC CHECKDB, an hidden database snapshot is created on the same location as the database files. DBCC CHECKDB, then runs its checks against the hidden snapshot. In this case, they will be created on the UNC path where the live mount is residing on. \n",
    "\n",
    "To make things peform a bit better, you should create your database snapshot of the live mounted database on the storage that is attached to the SQL Server. This will consume next to no storage on your SQL Server, but can help increase the performance of the DBCC CHECKDB operation. "
   ]
  },
  {
   "cell_type": "markdown",
   "metadata": {
    "dotnet_interactive": {
     "language": "csharp"
    },
    "polyglot_notebook": {
     "kernelName": "csharp"
    }
   },
   "source": [
    "### Create the database snapshot based off of the live mount"
   ]
  },
  {
   "cell_type": "code",
   "execution_count": null,
   "metadata": {
    "azdata_cell_guid": "b24b0382-f93d-4c51-ad63-83f769dd206a",
    "dotnet_interactive": {
     "language": "pwsh"
    },
    "language": "dotnet-interactive.pwsh",
    "vscode": {
     "languageId": "polyglot-notebook"
    }
   },
   "outputs": [],
   "source": [
    "$SnapshotName = \"$($LiveMountName)_DBCC\"\n",
    "$DefaultSQLPaths = Get-DbaDefaultPath -SqlInstance $TargetSQLServerInstance\n",
    "New-DbaDbSnapshot -SQLInstance $TargetSQLServerInstance -Database $LiveMountName -Path $DefaultSQLPaths.Data -Name $SnapshotName | Format-List"
   ]
  },
  {
   "cell_type": "markdown",
   "metadata": {
    "dotnet_interactive": {
     "language": "csharp"
    },
    "polyglot_notebook": {
     "kernelName": "csharp"
    }
   },
   "source": [
    "### Run DBCC CHECKDB"
   ]
  },
  {
   "cell_type": "code",
   "execution_count": null,
   "metadata": {
    "azdata_cell_guid": "10662678-f7ea-4fc4-8457-25d090837c9f",
    "dotnet_interactive": {
     "language": "pwsh"
    },
    "language": "dotnet-interactive.pwsh",
    "vscode": {
     "languageId": "polyglot-notebook"
    }
   },
   "outputs": [],
   "source": [
    "$results = Invoke-Sqlcmd -Query \"dbcc checkdb(); select @@spid as SessionID;\" -ServerInstance $TargetSQLServerInstance -Database $SnapshotName \n",
    "$spid = \"spid\" + $results.sessionID\n",
    "Get-SqlErrorLog -ServerInstance $($TargetSQLServerInstance)  | where-object { $_.Source -eq $spid } | Sort-Object -Property Date -Descending | Select -First 1"
   ]
  },
  {
   "cell_type": "markdown",
   "metadata": {
    "dotnet_interactive": {
     "language": "csharp"
    },
    "polyglot_notebook": {
     "kernelName": "csharp"
    }
   },
   "source": [
    "### Remove database snapshot"
   ]
  },
  {
   "cell_type": "code",
   "execution_count": null,
   "metadata": {
    "azdata_cell_guid": "41c579cd-4139-444b-b69e-a4418f19aa5c",
    "dotnet_interactive": {
     "language": "pwsh"
    },
    "language": "dotnet-interactive.pwsh",
    "vscode": {
     "languageId": "polyglot-notebook"
    }
   },
   "outputs": [],
   "source": [
    "Remove-DbaDbSnapshot -SqlInstance $TargetSQLServerInstance -Snapshot $SnapshotName -Confirm:$false"
   ]
  },
  {
   "cell_type": "markdown",
   "metadata": {
    "dotnet_interactive": {
     "language": "csharp"
    },
    "polyglot_notebook": {
     "kernelName": "csharp"
    }
   },
   "source": [
    "## Unmount the Database Live Mount"
   ]
  },
  {
   "cell_type": "code",
   "execution_count": null,
   "metadata": {
    "azdata_cell_guid": "6a636593-e754-413e-9318-280fc44125bd",
    "dotnet_interactive": {
     "language": "pwsh"
    },
    "language": "dotnet-interactive.pwsh",
    "vscode": {
     "languageId": "polyglot-notebook"
    }
   },
   "outputs": [],
   "source": [
    "# Connect-Rubrik with a Service Account\n",
    "Connect-Rubrik -Server $AccessTokenURI -id $ClientID -Secret $ClientSecret\n",
    "\n",
    "\n",
    "# # Unmount a database from SQL Server\n",
    "$RubrikDatabaseMount = Get-RubrikDatabaseMount -MountedDatabaseName $LiveMountName -TargetInstanceId $TargetInstance.id\n",
    "$RubrikRequest = Remove-RubrikDatabaseMount -id $RubrikDatabaseMount.id -Confirm:$false\n",
    "Disconnect-Rubrik"
   ]
  }
 ],
 "metadata": {
  "kernelspec": {
   "display_name": ".NET (C#)",
   "language": "C#",
   "name": ".net-csharp"
  },
  "polyglot_notebook": {
   "kernelInfo": {
    "defaultKernelName": "csharp",
    "items": [
     {
      "aliases": [
       "c#",
       "C#"
      ],
      "languageName": "C#",
      "name": "csharp"
     },
     {
      "aliases": [],
      "name": ".NET"
     },
     {
      "aliases": [
       "f#",
       "F#"
      ],
      "languageName": "F#",
      "name": "fsharp"
     },
     {
      "aliases": [],
      "languageName": "HTML",
      "name": "html"
     },
     {
      "aliases": [],
      "languageName": "KQL",
      "name": "kql"
     },
     {
      "aliases": [],
      "languageName": "Mermaid",
      "name": "mermaid"
     },
     {
      "aliases": [
       "powershell"
      ],
      "languageName": "PowerShell",
      "name": "pwsh"
     },
     {
      "aliases": [],
      "languageName": "SQL",
      "name": "sql"
     },
     {
      "aliases": [],
      "name": "value"
     },
     {
      "aliases": [
       "frontend"
      ],
      "name": "vscode"
     }
    ]
   }
  }
 },
 "nbformat": 4,
 "nbformat_minor": 2
}
