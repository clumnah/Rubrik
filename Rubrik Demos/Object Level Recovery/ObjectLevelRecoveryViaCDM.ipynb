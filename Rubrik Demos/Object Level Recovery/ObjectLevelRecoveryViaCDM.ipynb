{
 "cells": [
  {
   "attachments": {},
   "cell_type": "markdown",
   "metadata": {},
   "source": [
    "# Environment Setup\n",
    "This needs to be run the first time you start the notebook"
   ]
  },
  {
   "cell_type": "code",
   "execution_count": 1,
   "metadata": {
    "azdata_cell_guid": "bf2784d5-5d40-4f52-af93-47b78c396e62",
    "dotnet_interactive": {
     "language": "csharp"
    },
    "extensions": {
     "azuredatastudio": {
      "views": []
     }
    },
    "language": "dotnet-interactive.csharp"
   },
   "outputs": [
    {
     "data": {
      "text/html": [
       "<div><div></div><div></div><div><strong>Installed Packages</strong><ul><li><span>Microsoft.DotNet.Interactive.SqlServer, 1.0.0-beta.23258.3</span></li></ul></div></div>"
      ]
     },
     "metadata": {},
     "output_type": "display_data"
    },
    {
     "data": {
      "text/plain": [
       "Loading extensions from `/Users/Chris.Lumnah/.nuget/packages/microsoft.dotnet.interactive.sqlserver/1.0.0-beta.23258.3/interactive-extensions/dotnet/Microsoft.DotNet.Interactive.SqlServer.dll`"
      ]
     },
     "metadata": {},
     "output_type": "display_data"
    },
    {
     "data": {
      "text/html": [
       "<details><summary>Query Microsoft SQL Server databases.</summary>\r\n",
       "<p>This extension adds support for connecting to Microsoft SQL Server databases using the <code>#!connect mssql</code> magic command. For more information, run a cell using the <code>#!sql</code> magic command.</p>\r\n",
       "</details>"
      ]
     },
     "metadata": {},
     "output_type": "display_data"
    }
   ],
   "source": [
    "#r \"nuget:Microsoft.DotNet.Interactive.SqlServer,*-*\""
   ]
  },
  {
   "cell_type": "code",
   "execution_count": 2,
   "metadata": {
    "azdata_cell_guid": "f4c94c3e-d1e2-4b9a-9910-5ced1a67adac",
    "dotnet_interactive": {
     "language": "csharp"
    },
    "extensions": {
     "azuredatastudio": {
      "views": []
     }
    },
    "language": "dotnet-interactive.csharp"
   },
   "outputs": [
    {
     "data": {
      "text/plain": [
       "Kernel added: #!sql-TPCCDemo"
      ]
     },
     "metadata": {},
     "output_type": "display_data"
    }
   ],
   "source": [
    "#!connect mssql --kernel-name TPCCDemo \"Persist Security Info=False; TrustServerCertificate=True; Integrated Security=true; Initial Catalog=tpcc_2000gb; Server=rp-sql19sl-01.perf.rubrik.com;\""
   ]
  },
  {
   "cell_type": "code",
   "execution_count": 5,
   "metadata": {
    "dotnet_interactive": {
     "language": "pwsh"
    }
   },
   "outputs": [],
   "source": [
    "# Rubrik Connection Information\n",
    "$ServiceAccountID = op read op://Rubrik/perfpod-cdm02_ServiceAccount/username\n",
    "$Secret = op read op://Rubrik/perfpod-cdm02_ServiceAccount/credential\n",
    "$Server = op read op://Rubrik/perfpod-cdm02_ServiceAccount/hostname\n",
    "\n",
    "# Source Database Information\n",
    "$SourceSQLServerInstance = \"rp-sql19sl-01.perf.rubrik.com\"\n",
    "$SourceDatabaseName = \"TPCC_2000GB\"\n",
    "\n",
    "# Target Database Information\n",
    "$TargetSQLServerInstance = \"rp-sql19sl-01.perf.rubrik.com\"\n",
    "$LiveMountName = \"LiveMount\""
   ]
  },
  {
   "attachments": {},
   "cell_type": "markdown",
   "metadata": {},
   "source": [
    "# Look at the environment before"
   ]
  },
  {
   "attachments": {},
   "cell_type": "markdown",
   "metadata": {},
   "source": [
    "## List user databases and sizes\n",
    "\n",
    "- <mark>Pay attention to the database name TPCC\\_2000GB</mark>"
   ]
  },
  {
   "cell_type": "code",
   "execution_count": 6,
   "metadata": {
    "azdata_cell_guid": "1576478e-5ad3-4d84-b7d2-a20966e2340a",
    "dotnet_interactive": {
     "language": "sql"
    },
    "extensions": {
     "azuredatastudio": {
      "views": []
     }
    },
    "language": "dotnet-interactive.sql",
    "tags": [
     "hide_input"
    ]
   },
   "outputs": [
    {
     "data": {
      "text/plain": [
       "(6 rows affected)"
      ]
     },
     "metadata": {},
     "output_type": "display_data"
    },
    {
     "data": {
      "text/csv": [
       "name,DataFileSizeInMB,LogFileSizeInMB\n",
       "TPCC_2000GB,2232762.000000,48577.000000\n",
       "TPCC_5000GB,5210112.000000,1032.000000\n",
       "rafa-bulk,16.000000,8.000000\n",
       "rafa,16.000000,8.000000\n",
       "rafa-new,16.000000,8.000000\n",
       "Demo_LM,2232762.000000,48577.000000\n"
      ],
      "text/html": [
       "<table><thead><tr><td><span>name</span></td><td><span>DataFileSizeInMB</span></td><td><span>LogFileSizeInMB</span></td></tr></thead><tbody><tr><td>TPCC_2000GB</td><td><div class=\"dni-plaintext\"><pre>2232762.000000</pre></div></td><td><div class=\"dni-plaintext\"><pre>48577.000000</pre></div></td></tr><tr><td>TPCC_5000GB</td><td><div class=\"dni-plaintext\"><pre>5210112.000000</pre></div></td><td><div class=\"dni-plaintext\"><pre>1032.000000</pre></div></td></tr><tr><td>rafa-bulk</td><td><div class=\"dni-plaintext\"><pre>16.000000</pre></div></td><td><div class=\"dni-plaintext\"><pre>8.000000</pre></div></td></tr><tr><td>rafa</td><td><div class=\"dni-plaintext\"><pre>16.000000</pre></div></td><td><div class=\"dni-plaintext\"><pre>8.000000</pre></div></td></tr><tr><td>rafa-new</td><td><div class=\"dni-plaintext\"><pre>16.000000</pre></div></td><td><div class=\"dni-plaintext\"><pre>8.000000</pre></div></td></tr><tr><td>Demo_LM</td><td><div class=\"dni-plaintext\"><pre>2232762.000000</pre></div></td><td><div class=\"dni-plaintext\"><pre>48577.000000</pre></div></td></tr></tbody></table><style>\r\n",
       ".dni-code-hint {\r\n",
       "    font-style: italic;\r\n",
       "    overflow: hidden;\r\n",
       "    white-space: nowrap;\r\n",
       "}\r\n",
       ".dni-treeview {\r\n",
       "    white-space: nowrap;\r\n",
       "}\r\n",
       ".dni-treeview td {\r\n",
       "    vertical-align: top;\r\n",
       "    text-align: start;\r\n",
       "}\r\n",
       "details.dni-treeview {\r\n",
       "    padding-left: 1em;\r\n",
       "}\r\n",
       "table td {\r\n",
       "    text-align: start;\r\n",
       "}\r\n",
       "table tr { \r\n",
       "    vertical-align: top; \r\n",
       "    margin: 0em 0px;\r\n",
       "}\r\n",
       "table tr td pre \r\n",
       "{ \r\n",
       "    vertical-align: top !important; \r\n",
       "    margin: 0em 0px !important;\r\n",
       "} \r\n",
       "table th {\r\n",
       "    text-align: start;\r\n",
       "}\r\n",
       "</style>"
      ]
     },
     "metadata": {},
     "output_type": "display_data"
    }
   ],
   "source": [
    "#!sql-TPCCDemo\n",
    "with fs\n",
    "as\n",
    "(\n",
    "    select database_id, type, size * 8.0 / 1024 size\n",
    "    from sys.master_files\n",
    ")\n",
    "select\n",
    "    name,\n",
    "    (select sum(size) from fs where type = 0 and fs.database_id = db.database_id) DataFileSizeInMB,\n",
    "    (select sum(size) from fs where type = 1 and fs.database_id = db.database_id) LogFileSizeInMB\n",
    "from sys.databases db\n",
    "where db.database_id > 4"
   ]
  },
  {
   "attachments": {},
   "cell_type": "markdown",
   "metadata": {},
   "source": [
    "## List the tables and their sizes\n",
    "\n",
    "- <mark>Pay attention to the tables named district and warehouse</mark>\n",
    "- Look at the row counts for both of these tables"
   ]
  },
  {
   "cell_type": "code",
   "execution_count": 7,
   "metadata": {
    "azdata_cell_guid": "8db66047-6d38-4e0f-a452-69bd2afe05ce",
    "dotnet_interactive": {
     "language": "sql"
    },
    "extensions": {
     "azuredatastudio": {
      "views": []
     }
    },
    "language": "dotnet-interactive.sql",
    "tags": [
     "hide_input"
    ]
   },
   "outputs": [
    {
     "data": {
      "text/plain": [
       "(10 rows affected)"
      ]
     },
     "metadata": {},
     "output_type": "display_data"
    },
    {
     "data": {
      "text/csv": [
       "TableName,SchemaName,rows,TotalSpaceKB,TotalSpaceMB,UsedSpaceKB,UsedSpaceMB,UnusedSpaceKB,UnusedSpaceMB\n",
       "stock,dbo,2953200000,949449944,927197.21,949444720,927192.11,5224,5.10\n",
       "customer,dbo,900000000,654549072,639208.08,654547000,639206.05,2072,2.02\n",
       "order_line,dbo,9000027799,590169528,576337.43,590167376,576335.33,2152,2.10\n",
       "history,dbo,900000000,52558336,51326.50,52555200,51323.44,3136,3.06\n",
       "orders,dbo,900000000,29391024,28702.17,29388448,28699.66,2576,2.52\n",
       "new_order,dbo,270000000,4816608,4703.72,4810936,4698.18,5672,5.54\n",
       "district,dbo,300000,2409760,2353.28,2409616,2353.14,144,0.14\n",
       "warehouse,dbo,30000,241248,235.59,241056,235.41,192,0.19\n",
       "item,dbo,100000,9616,9.39,9520,9.30,96,0.09\n",
       "BackupTimeTable,dbo,350,144,0.14,88,0.09,56,0.05\n"
      ],
      "text/html": [
       "<table><thead><tr><td><span>TableName</span></td><td><span>SchemaName</span></td><td><span>rows</span></td><td><span>TotalSpaceKB</span></td><td><span>TotalSpaceMB</span></td><td><span>UsedSpaceKB</span></td><td><span>UsedSpaceMB</span></td><td><span>UnusedSpaceKB</span></td><td><span>UnusedSpaceMB</span></td></tr></thead><tbody><tr><td>stock</td><td>dbo</td><td><div class=\"dni-plaintext\"><pre>2953200000</pre></div></td><td><div class=\"dni-plaintext\"><pre>949449944</pre></div></td><td><div class=\"dni-plaintext\"><pre>927197.21</pre></div></td><td><div class=\"dni-plaintext\"><pre>949444720</pre></div></td><td><div class=\"dni-plaintext\"><pre>927192.11</pre></div></td><td><div class=\"dni-plaintext\"><pre>5224</pre></div></td><td><div class=\"dni-plaintext\"><pre>5.10</pre></div></td></tr><tr><td>customer</td><td>dbo</td><td><div class=\"dni-plaintext\"><pre>900000000</pre></div></td><td><div class=\"dni-plaintext\"><pre>654549072</pre></div></td><td><div class=\"dni-plaintext\"><pre>639208.08</pre></div></td><td><div class=\"dni-plaintext\"><pre>654547000</pre></div></td><td><div class=\"dni-plaintext\"><pre>639206.05</pre></div></td><td><div class=\"dni-plaintext\"><pre>2072</pre></div></td><td><div class=\"dni-plaintext\"><pre>2.02</pre></div></td></tr><tr><td>order_line</td><td>dbo</td><td><div class=\"dni-plaintext\"><pre>9000027799</pre></div></td><td><div class=\"dni-plaintext\"><pre>590169528</pre></div></td><td><div class=\"dni-plaintext\"><pre>576337.43</pre></div></td><td><div class=\"dni-plaintext\"><pre>590167376</pre></div></td><td><div class=\"dni-plaintext\"><pre>576335.33</pre></div></td><td><div class=\"dni-plaintext\"><pre>2152</pre></div></td><td><div class=\"dni-plaintext\"><pre>2.10</pre></div></td></tr><tr><td>history</td><td>dbo</td><td><div class=\"dni-plaintext\"><pre>900000000</pre></div></td><td><div class=\"dni-plaintext\"><pre>52558336</pre></div></td><td><div class=\"dni-plaintext\"><pre>51326.50</pre></div></td><td><div class=\"dni-plaintext\"><pre>52555200</pre></div></td><td><div class=\"dni-plaintext\"><pre>51323.44</pre></div></td><td><div class=\"dni-plaintext\"><pre>3136</pre></div></td><td><div class=\"dni-plaintext\"><pre>3.06</pre></div></td></tr><tr><td>orders</td><td>dbo</td><td><div class=\"dni-plaintext\"><pre>900000000</pre></div></td><td><div class=\"dni-plaintext\"><pre>29391024</pre></div></td><td><div class=\"dni-plaintext\"><pre>28702.17</pre></div></td><td><div class=\"dni-plaintext\"><pre>29388448</pre></div></td><td><div class=\"dni-plaintext\"><pre>28699.66</pre></div></td><td><div class=\"dni-plaintext\"><pre>2576</pre></div></td><td><div class=\"dni-plaintext\"><pre>2.52</pre></div></td></tr><tr><td>new_order</td><td>dbo</td><td><div class=\"dni-plaintext\"><pre>270000000</pre></div></td><td><div class=\"dni-plaintext\"><pre>4816608</pre></div></td><td><div class=\"dni-plaintext\"><pre>4703.72</pre></div></td><td><div class=\"dni-plaintext\"><pre>4810936</pre></div></td><td><div class=\"dni-plaintext\"><pre>4698.18</pre></div></td><td><div class=\"dni-plaintext\"><pre>5672</pre></div></td><td><div class=\"dni-plaintext\"><pre>5.54</pre></div></td></tr><tr><td>district</td><td>dbo</td><td><div class=\"dni-plaintext\"><pre>300000</pre></div></td><td><div class=\"dni-plaintext\"><pre>2409760</pre></div></td><td><div class=\"dni-plaintext\"><pre>2353.28</pre></div></td><td><div class=\"dni-plaintext\"><pre>2409616</pre></div></td><td><div class=\"dni-plaintext\"><pre>2353.14</pre></div></td><td><div class=\"dni-plaintext\"><pre>144</pre></div></td><td><div class=\"dni-plaintext\"><pre>0.14</pre></div></td></tr><tr><td>warehouse</td><td>dbo</td><td><div class=\"dni-plaintext\"><pre>30000</pre></div></td><td><div class=\"dni-plaintext\"><pre>241248</pre></div></td><td><div class=\"dni-plaintext\"><pre>235.59</pre></div></td><td><div class=\"dni-plaintext\"><pre>241056</pre></div></td><td><div class=\"dni-plaintext\"><pre>235.41</pre></div></td><td><div class=\"dni-plaintext\"><pre>192</pre></div></td><td><div class=\"dni-plaintext\"><pre>0.19</pre></div></td></tr><tr><td>item</td><td>dbo</td><td><div class=\"dni-plaintext\"><pre>100000</pre></div></td><td><div class=\"dni-plaintext\"><pre>9616</pre></div></td><td><div class=\"dni-plaintext\"><pre>9.39</pre></div></td><td><div class=\"dni-plaintext\"><pre>9520</pre></div></td><td><div class=\"dni-plaintext\"><pre>9.30</pre></div></td><td><div class=\"dni-plaintext\"><pre>96</pre></div></td><td><div class=\"dni-plaintext\"><pre>0.09</pre></div></td></tr><tr><td>BackupTimeTable</td><td>dbo</td><td><div class=\"dni-plaintext\"><pre>350</pre></div></td><td><div class=\"dni-plaintext\"><pre>144</pre></div></td><td><div class=\"dni-plaintext\"><pre>0.14</pre></div></td><td><div class=\"dni-plaintext\"><pre>88</pre></div></td><td><div class=\"dni-plaintext\"><pre>0.09</pre></div></td><td><div class=\"dni-plaintext\"><pre>56</pre></div></td><td><div class=\"dni-plaintext\"><pre>0.05</pre></div></td></tr></tbody></table><style>\r\n",
       ".dni-code-hint {\r\n",
       "    font-style: italic;\r\n",
       "    overflow: hidden;\r\n",
       "    white-space: nowrap;\r\n",
       "}\r\n",
       ".dni-treeview {\r\n",
       "    white-space: nowrap;\r\n",
       "}\r\n",
       ".dni-treeview td {\r\n",
       "    vertical-align: top;\r\n",
       "    text-align: start;\r\n",
       "}\r\n",
       "details.dni-treeview {\r\n",
       "    padding-left: 1em;\r\n",
       "}\r\n",
       "table td {\r\n",
       "    text-align: start;\r\n",
       "}\r\n",
       "table tr { \r\n",
       "    vertical-align: top; \r\n",
       "    margin: 0em 0px;\r\n",
       "}\r\n",
       "table tr td pre \r\n",
       "{ \r\n",
       "    vertical-align: top !important; \r\n",
       "    margin: 0em 0px !important;\r\n",
       "} \r\n",
       "table th {\r\n",
       "    text-align: start;\r\n",
       "}\r\n",
       "</style>"
      ]
     },
     "metadata": {},
     "output_type": "display_data"
    }
   ],
   "source": [
    "#!sql-TPCCDemo\n",
    "USE TPCC_2000GB\n",
    "SELECT \n",
    "    t.NAME AS TableName,\n",
    "    s.Name AS SchemaName,\n",
    "    p.rows,\n",
    "    SUM(a.total_pages) * 8 AS TotalSpaceKB, \n",
    "    CAST(ROUND(((SUM(a.total_pages) * 8) / 1024.00), 2) AS NUMERIC(36, 2)) AS TotalSpaceMB,\n",
    "    SUM(a.used_pages) * 8 AS UsedSpaceKB, \n",
    "    CAST(ROUND(((SUM(a.used_pages) * 8) / 1024.00), 2) AS NUMERIC(36, 2)) AS UsedSpaceMB, \n",
    "    (SUM(a.total_pages) - SUM(a.used_pages)) * 8 AS UnusedSpaceKB,\n",
    "    CAST(ROUND(((SUM(a.total_pages) - SUM(a.used_pages)) * 8) / 1024.00, 2) AS NUMERIC(36, 2)) AS UnusedSpaceMB\n",
    "FROM \n",
    "    sys.tables t\n",
    "INNER JOIN      \n",
    "    sys.indexes i ON t.OBJECT_ID = i.object_id\n",
    "INNER JOIN \n",
    "    sys.partitions p ON i.object_id = p.OBJECT_ID AND i.index_id = p.index_id\n",
    "INNER JOIN \n",
    "    sys.allocation_units a ON p.partition_id = a.container_id\n",
    "LEFT OUTER JOIN \n",
    "    sys.schemas s ON t.schema_id = s.schema_id\n",
    "WHERE \n",
    "    t.NAME NOT LIKE 'dt%' \n",
    "    AND t.is_ms_shipped = 0\n",
    "    AND i.OBJECT_ID > 255 \n",
    "GROUP BY \n",
    "    t.Name, s.Name, p.Rows\n",
    "ORDER BY \n",
    "    TotalSpaceMB DESC, t.Name"
   ]
  },
  {
   "attachments": {},
   "cell_type": "markdown",
   "metadata": {},
   "source": [
    "# Do a bad thing"
   ]
  },
  {
   "attachments": {},
   "cell_type": "markdown",
   "metadata": {},
   "source": [
    "## Delete without a WHERE clause\n",
    "\n",
    "- A user is doing some work in the database. They need to do some clean up and they want to delete 5 entries from the warehouse table. However instead they made a mistake and left their WHERE clause commented out and mistakenly deleted all records from the table."
   ]
  },
  {
   "cell_type": "code",
   "execution_count": 8,
   "metadata": {
    "azdata_cell_guid": "69beb3b5-5954-4d64-a764-a24507bd73fd",
    "dotnet_interactive": {
     "language": "sql"
    },
    "extensions": {
     "azuredatastudio": {
      "views": []
     }
    },
    "language": "dotnet-interactive.sql",
    "tags": []
   },
   "outputs": [
    {
     "data": {
      "text/plain": [
       "(30000 rows affected)"
      ]
     },
     "metadata": {},
     "output_type": "display_data"
    }
   ],
   "source": [
    "#!sql-TPCCDemo\n",
    "USE TPCC_2000GB\n",
    "DELETE FROM warehouse\n",
    "--WHERE W_id IN (1,2,3,4,5)"
   ]
  },
  {
   "attachments": {},
   "cell_type": "markdown",
   "metadata": {},
   "source": [
    "## Drop a table\n",
    "\n",
    "- A Junior DBA is doing a change. They think they are in a non-production environment and mistakenly run this code against production."
   ]
  },
  {
   "cell_type": "code",
   "execution_count": 9,
   "metadata": {
    "azdata_cell_guid": "a7f03ce2-124f-40a0-8376-e72c79d00af3",
    "dotnet_interactive": {
     "language": "sql"
    },
    "extensions": {
     "azuredatastudio": {
      "views": []
     }
    },
    "language": "dotnet-interactive.sql"
   },
   "outputs": [
    {
     "data": {
      "text/plain": [
       "Commands completed successfully."
      ]
     },
     "metadata": {},
     "output_type": "display_data"
    }
   ],
   "source": [
    "#!sql-TPCCDemo\n",
    "USE TPCC_2000GB\n",
    "DROP TABLE district"
   ]
  },
  {
   "attachments": {},
   "cell_type": "markdown",
   "metadata": {},
   "source": [
    "## List the tables and their sizes\n",
    "\n",
    "- <mark>Pay attention to the tables named district and warehouse</mark>\n",
    "- Notice that the warehouse table has 0 records\n",
    "- Notice the district table no longer exists"
   ]
  },
  {
   "cell_type": "code",
   "execution_count": 10,
   "metadata": {
    "azdata_cell_guid": "c4d6d16d-2ba2-461a-b4d7-51f1d18f9d14",
    "dotnet_interactive": {
     "language": "sql"
    },
    "extensions": {
     "azuredatastudio": {
      "views": []
     }
    },
    "language": "dotnet-interactive.sql",
    "tags": [
     "hide_input"
    ]
   },
   "outputs": [
    {
     "data": {
      "text/plain": [
       "(9 rows affected)"
      ]
     },
     "metadata": {},
     "output_type": "display_data"
    },
    {
     "data": {
      "text/csv": [
       "TableName,SchemaName,rows,TotalSpaceKB,TotalSpaceMB,UsedSpaceKB,UsedSpaceMB,UnusedSpaceKB,UnusedSpaceMB\n",
       "BackupTimeTable,dbo,350,144,0.14,88,0.09,56,0.05\n",
       "customer,dbo,900000000,654549072,639208.08,654547000,639206.05,2072,2.02\n",
       "history,dbo,900000000,52558336,51326.50,52555200,51323.44,3136,3.06\n",
       "item,dbo,100000,9616,9.39,9520,9.30,96,0.09\n",
       "new_order,dbo,270000000,4816608,4703.72,4810936,4698.18,5672,5.54\n",
       "order_line,dbo,9000027799,590169528,576337.43,590167376,576335.33,2152,2.10\n",
       "orders,dbo,900000000,29391024,28702.17,29388448,28699.66,2576,2.52\n",
       "stock,dbo,2953200000,949449944,927197.21,949444720,927192.11,5224,5.10\n",
       "warehouse,dbo,0,133472,130.34,133280,130.16,192,0.19\n"
      ],
      "text/html": [
       "<table><thead><tr><td><span>TableName</span></td><td><span>SchemaName</span></td><td><span>rows</span></td><td><span>TotalSpaceKB</span></td><td><span>TotalSpaceMB</span></td><td><span>UsedSpaceKB</span></td><td><span>UsedSpaceMB</span></td><td><span>UnusedSpaceKB</span></td><td><span>UnusedSpaceMB</span></td></tr></thead><tbody><tr><td>BackupTimeTable</td><td>dbo</td><td><div class=\"dni-plaintext\"><pre>350</pre></div></td><td><div class=\"dni-plaintext\"><pre>144</pre></div></td><td><div class=\"dni-plaintext\"><pre>0.14</pre></div></td><td><div class=\"dni-plaintext\"><pre>88</pre></div></td><td><div class=\"dni-plaintext\"><pre>0.09</pre></div></td><td><div class=\"dni-plaintext\"><pre>56</pre></div></td><td><div class=\"dni-plaintext\"><pre>0.05</pre></div></td></tr><tr><td>customer</td><td>dbo</td><td><div class=\"dni-plaintext\"><pre>900000000</pre></div></td><td><div class=\"dni-plaintext\"><pre>654549072</pre></div></td><td><div class=\"dni-plaintext\"><pre>639208.08</pre></div></td><td><div class=\"dni-plaintext\"><pre>654547000</pre></div></td><td><div class=\"dni-plaintext\"><pre>639206.05</pre></div></td><td><div class=\"dni-plaintext\"><pre>2072</pre></div></td><td><div class=\"dni-plaintext\"><pre>2.02</pre></div></td></tr><tr><td>history</td><td>dbo</td><td><div class=\"dni-plaintext\"><pre>900000000</pre></div></td><td><div class=\"dni-plaintext\"><pre>52558336</pre></div></td><td><div class=\"dni-plaintext\"><pre>51326.50</pre></div></td><td><div class=\"dni-plaintext\"><pre>52555200</pre></div></td><td><div class=\"dni-plaintext\"><pre>51323.44</pre></div></td><td><div class=\"dni-plaintext\"><pre>3136</pre></div></td><td><div class=\"dni-plaintext\"><pre>3.06</pre></div></td></tr><tr><td>item</td><td>dbo</td><td><div class=\"dni-plaintext\"><pre>100000</pre></div></td><td><div class=\"dni-plaintext\"><pre>9616</pre></div></td><td><div class=\"dni-plaintext\"><pre>9.39</pre></div></td><td><div class=\"dni-plaintext\"><pre>9520</pre></div></td><td><div class=\"dni-plaintext\"><pre>9.30</pre></div></td><td><div class=\"dni-plaintext\"><pre>96</pre></div></td><td><div class=\"dni-plaintext\"><pre>0.09</pre></div></td></tr><tr><td>new_order</td><td>dbo</td><td><div class=\"dni-plaintext\"><pre>270000000</pre></div></td><td><div class=\"dni-plaintext\"><pre>4816608</pre></div></td><td><div class=\"dni-plaintext\"><pre>4703.72</pre></div></td><td><div class=\"dni-plaintext\"><pre>4810936</pre></div></td><td><div class=\"dni-plaintext\"><pre>4698.18</pre></div></td><td><div class=\"dni-plaintext\"><pre>5672</pre></div></td><td><div class=\"dni-plaintext\"><pre>5.54</pre></div></td></tr><tr><td>order_line</td><td>dbo</td><td><div class=\"dni-plaintext\"><pre>9000027799</pre></div></td><td><div class=\"dni-plaintext\"><pre>590169528</pre></div></td><td><div class=\"dni-plaintext\"><pre>576337.43</pre></div></td><td><div class=\"dni-plaintext\"><pre>590167376</pre></div></td><td><div class=\"dni-plaintext\"><pre>576335.33</pre></div></td><td><div class=\"dni-plaintext\"><pre>2152</pre></div></td><td><div class=\"dni-plaintext\"><pre>2.10</pre></div></td></tr><tr><td>orders</td><td>dbo</td><td><div class=\"dni-plaintext\"><pre>900000000</pre></div></td><td><div class=\"dni-plaintext\"><pre>29391024</pre></div></td><td><div class=\"dni-plaintext\"><pre>28702.17</pre></div></td><td><div class=\"dni-plaintext\"><pre>29388448</pre></div></td><td><div class=\"dni-plaintext\"><pre>28699.66</pre></div></td><td><div class=\"dni-plaintext\"><pre>2576</pre></div></td><td><div class=\"dni-plaintext\"><pre>2.52</pre></div></td></tr><tr><td>stock</td><td>dbo</td><td><div class=\"dni-plaintext\"><pre>2953200000</pre></div></td><td><div class=\"dni-plaintext\"><pre>949449944</pre></div></td><td><div class=\"dni-plaintext\"><pre>927197.21</pre></div></td><td><div class=\"dni-plaintext\"><pre>949444720</pre></div></td><td><div class=\"dni-plaintext\"><pre>927192.11</pre></div></td><td><div class=\"dni-plaintext\"><pre>5224</pre></div></td><td><div class=\"dni-plaintext\"><pre>5.10</pre></div></td></tr><tr><td>warehouse</td><td>dbo</td><td><div class=\"dni-plaintext\"><pre>0</pre></div></td><td><div class=\"dni-plaintext\"><pre>133472</pre></div></td><td><div class=\"dni-plaintext\"><pre>130.34</pre></div></td><td><div class=\"dni-plaintext\"><pre>133280</pre></div></td><td><div class=\"dni-plaintext\"><pre>130.16</pre></div></td><td><div class=\"dni-plaintext\"><pre>192</pre></div></td><td><div class=\"dni-plaintext\"><pre>0.19</pre></div></td></tr></tbody></table><style>\r\n",
       ".dni-code-hint {\r\n",
       "    font-style: italic;\r\n",
       "    overflow: hidden;\r\n",
       "    white-space: nowrap;\r\n",
       "}\r\n",
       ".dni-treeview {\r\n",
       "    white-space: nowrap;\r\n",
       "}\r\n",
       ".dni-treeview td {\r\n",
       "    vertical-align: top;\r\n",
       "    text-align: start;\r\n",
       "}\r\n",
       "details.dni-treeview {\r\n",
       "    padding-left: 1em;\r\n",
       "}\r\n",
       "table td {\r\n",
       "    text-align: start;\r\n",
       "}\r\n",
       "table tr { \r\n",
       "    vertical-align: top; \r\n",
       "    margin: 0em 0px;\r\n",
       "}\r\n",
       "table tr td pre \r\n",
       "{ \r\n",
       "    vertical-align: top !important; \r\n",
       "    margin: 0em 0px !important;\r\n",
       "} \r\n",
       "table th {\r\n",
       "    text-align: start;\r\n",
       "}\r\n",
       "</style>"
      ]
     },
     "metadata": {},
     "output_type": "display_data"
    }
   ],
   "source": [
    "#!sql-TPCCDemo\n",
    "USE TPCC_2000GB\n",
    "SELECT \n",
    "    t.NAME AS TableName,\n",
    "    s.Name AS SchemaName,\n",
    "    p.rows,\n",
    "    SUM(a.total_pages) * 8 AS TotalSpaceKB, \n",
    "    CAST(ROUND(((SUM(a.total_pages) * 8) / 1024.00), 2) AS NUMERIC(36, 2)) AS TotalSpaceMB,\n",
    "    SUM(a.used_pages) * 8 AS UsedSpaceKB, \n",
    "    CAST(ROUND(((SUM(a.used_pages) * 8) / 1024.00), 2) AS NUMERIC(36, 2)) AS UsedSpaceMB, \n",
    "    (SUM(a.total_pages) - SUM(a.used_pages)) * 8 AS UnusedSpaceKB,\n",
    "    CAST(ROUND(((SUM(a.total_pages) - SUM(a.used_pages)) * 8) / 1024.00, 2) AS NUMERIC(36, 2)) AS UnusedSpaceMB\n",
    "FROM \n",
    "    sys.tables t\n",
    "INNER JOIN      \n",
    "    sys.indexes i ON t.OBJECT_ID = i.object_id\n",
    "INNER JOIN \n",
    "    sys.partitions p ON i.object_id = p.OBJECT_ID AND i.index_id = p.index_id\n",
    "INNER JOIN \n",
    "    sys.allocation_units a ON p.partition_id = a.container_id\n",
    "LEFT OUTER JOIN \n",
    "    sys.schemas s ON t.schema_id = s.schema_id\n",
    "WHERE \n",
    "    t.NAME NOT LIKE 'dt%' \n",
    "    AND t.is_ms_shipped = 0\n",
    "    AND i.OBJECT_ID > 255 \n",
    "GROUP BY \n",
    "    t.Name, s.Name, p.Rows\n",
    "ORDER BY t.Name"
   ]
  },
  {
   "attachments": {},
   "cell_type": "markdown",
   "metadata": {},
   "source": [
    "# Recover from the Bad Thing"
   ]
  },
  {
   "attachments": {},
   "cell_type": "markdown",
   "metadata": {},
   "source": [
    "## Live Mount the last backup"
   ]
  },
  {
   "cell_type": "code",
   "execution_count": 11,
   "metadata": {
    "azdata_cell_guid": "15828037-4667-4159-bc6b-27eb4cb21b81",
    "dotnet_interactive": {
     "language": "pwsh"
    },
    "extensions": {
     "azuredatastudio": {
      "views": []
     }
    },
    "language": "dotnet-interactive.pwsh"
   },
   "outputs": [
    {
     "data": {
      "text/plain": []
     },
     "metadata": {},
     "output_type": "display_data"
    },
    {
     "name": "stdout",
     "output_type": "stream",
     "text": [
      "\u001b[93mVERBOSE: HTTP/1.1 POST with 171-byte payload\u001b[0m\n",
      "\u001b[93mVERBOSE: received 580-byte response of content type application/json\u001b[0m\n",
      "\u001b[93mVERBOSE: Content encoding: utf-8\u001b[0m\n",
      "\n",
      "\u001b[32;1mName                           Value\u001b[0m\n",
      "\u001b[32;1m----                           -----\u001b[0m\n",
      "header                         {[User-Agent, RubrikPowerShellSDK-6.0.1--7.3.0--platform--Unix--pla…\n",
      "authType                       ServiceAccount\n",
      "userId                         \n",
      "version                        8.1.1-24187\n",
      "time                           6/1/2023 9:35:29 AM\n",
      "server                         10.8.49.101\n",
      "id                             \n",
      "api                            1\n",
      "\n",
      "\u001b[32;1mid        : \u001b[0mMSSQL_DB_MOUNT_4b2c0ad1-eff2-4b9b-8b3f-842556aeb0ff_5dc90e68-7fc7-4aaf-bf66-143f038142c\n",
      "            3:::0\n",
      "\u001b[32;1mstatus    : \u001b[0mSUCCEEDED\n",
      "\u001b[32;1mstartTime : \u001b[0m6/1/2023 1:35:35 PM\n",
      "\u001b[32;1mendTime   : \u001b[0m6/1/2023 1:37:10 PM\n",
      "\u001b[32;1mnodeId    : \u001b[0mcluster:::RVMHM204S006647\n",
      "\u001b[32;1mlinks     : \u001b[0m{@{href=https://10.8.49.101/api/v1/mssql/db/mount/8d5af78d-c35c-4635-b1cb-1885c1b37cc0;\n",
      "             rel=result}, @{href=https://10.8.49.101/api/v1/mssql/request/MSSQL_DB_MOUNT_4b2c0ad1-e\n",
      "            ff2-4b9b-8b3f-842556aeb0ff_5dc90e68-7fc7-4aaf-bf66-143f038142c3:::0; rel=self}}\n",
      "\n",
      "\n",
      "\u001b[32;1mStatus                : \u001b[0mSuccess\n",
      "\u001b[32;1mHTTPStatusCode        : \u001b[0m204\n",
      "\u001b[32;1mHTTPStatusDescription : \u001b[0mNoContent\n",
      "\n",
      "\n"
     ]
    }
   ],
   "source": [
    "# Connect-Rubrik with a Service Account\n",
    "Connect-Rubrik -Server $Server -id $ServiceAccountID -Secret $Secret\n",
    "\n",
    "# Get database information from Rubrik\n",
    "$RubrikDatabase = Get-RubrikDatabase -Name $SourceDatabaseName -ServerInstance $SourceSQLServerInstance\n",
    "\n",
    "#Mount a database to a SQL Server\n",
    "$TargetInstance = Get-RubrikSQLInstance -ServerInstance $TargetSQLServerInstance\n",
    "$RubrikRequest = New-RubrikDatabaseMount -id $RubrikDatabase.id `\n",
    "\t-TargetInstanceId $TargetInstance.id `\n",
    "\t-MountedDatabaseName $LiveMountName `\n",
    "\t-recoveryDateTime (Get-date (Get-RubrikDatabase -id $RubrikDatabase.id).latestRecoveryPoint) `\n",
    "    -Confirm:$false\n",
    "Get-RubrikRequest -id $RubrikRequest.id -Type mssql -WaitForCompletion\n",
    "Disconnect-Rubrik"
   ]
  },
  {
   "attachments": {},
   "cell_type": "markdown",
   "metadata": {},
   "source": [
    "## Look at the environment after"
   ]
  },
  {
   "attachments": {},
   "cell_type": "markdown",
   "metadata": {},
   "source": [
    "### Look at the files of each database"
   ]
  },
  {
   "cell_type": "code",
   "execution_count": 12,
   "metadata": {
    "azdata_cell_guid": "abb79f71-d4e9-4c46-8a30-0b8be0ad8c91",
    "dotnet_interactive": {
     "language": "sql"
    },
    "language": "dotnet-interactive.sql"
   },
   "outputs": [
    {
     "data": {
      "text/plain": [
       "(11 rows affected)"
      ]
     },
     "metadata": {},
     "output_type": "display_data"
    },
    {
     "data": {
      "text/plain": [
       "(11 rows affected)"
      ]
     },
     "metadata": {},
     "output_type": "display_data"
    },
    {
     "data": {
      "text/csv": [
       "Logical Name,File Location\n",
       "TPCC_01,C:\\mnt\\sqldata\\TPCC_01.mdf\n",
       "TPCC_log,C:\\mnt\\sqllogs\\TPCC_log.ldf\n",
       "TPCC_02,C:\\mnt\\sqldata\\TPCC_02.ndf\n",
       "TPCC_03,C:\\mnt\\sqldata\\TPCC_03.ndf\n",
       "TPCC_04,C:\\mnt\\sqldata\\TPCC_04.ndf\n",
       "TPCC_05,C:\\mnt\\sqldata\\TPCC_05.ndf\n",
       "TPCC_06,C:\\mnt\\sqldata\\TPCC_06.ndf\n",
       "TPCC_07,C:\\mnt\\sqldata\\TPCC_07.ndf\n",
       "TPCC_08,C:\\mnt\\sqldata\\TPCC_08.ndf\n",
       "TPCC_09,C:\\mnt\\sqldata\\TPCC_09.ndf\n",
       "TPCC_10,C:\\mnt\\sqldata\\TPCC_10.ndf\n"
      ],
      "text/html": [
       "<table><thead><tr><td><span>Logical Name</span></td><td><span>File Location</span></td></tr></thead><tbody><tr><td>TPCC_01</td><td>C:\\mnt\\sqldata\\TPCC_01.mdf</td></tr><tr><td>TPCC_log</td><td>C:\\mnt\\sqllogs\\TPCC_log.ldf</td></tr><tr><td>TPCC_02</td><td>C:\\mnt\\sqldata\\TPCC_02.ndf</td></tr><tr><td>TPCC_03</td><td>C:\\mnt\\sqldata\\TPCC_03.ndf</td></tr><tr><td>TPCC_04</td><td>C:\\mnt\\sqldata\\TPCC_04.ndf</td></tr><tr><td>TPCC_05</td><td>C:\\mnt\\sqldata\\TPCC_05.ndf</td></tr><tr><td>TPCC_06</td><td>C:\\mnt\\sqldata\\TPCC_06.ndf</td></tr><tr><td>TPCC_07</td><td>C:\\mnt\\sqldata\\TPCC_07.ndf</td></tr><tr><td>TPCC_08</td><td>C:\\mnt\\sqldata\\TPCC_08.ndf</td></tr><tr><td>TPCC_09</td><td>C:\\mnt\\sqldata\\TPCC_09.ndf</td></tr><tr><td>TPCC_10</td><td>C:\\mnt\\sqldata\\TPCC_10.ndf</td></tr></tbody></table><style>\r\n",
       ".dni-code-hint {\r\n",
       "    font-style: italic;\r\n",
       "    overflow: hidden;\r\n",
       "    white-space: nowrap;\r\n",
       "}\r\n",
       ".dni-treeview {\r\n",
       "    white-space: nowrap;\r\n",
       "}\r\n",
       ".dni-treeview td {\r\n",
       "    vertical-align: top;\r\n",
       "    text-align: start;\r\n",
       "}\r\n",
       "details.dni-treeview {\r\n",
       "    padding-left: 1em;\r\n",
       "}\r\n",
       "table td {\r\n",
       "    text-align: start;\r\n",
       "}\r\n",
       "table tr { \r\n",
       "    vertical-align: top; \r\n",
       "    margin: 0em 0px;\r\n",
       "}\r\n",
       "table tr td pre \r\n",
       "{ \r\n",
       "    vertical-align: top !important; \r\n",
       "    margin: 0em 0px !important;\r\n",
       "} \r\n",
       "table th {\r\n",
       "    text-align: start;\r\n",
       "}\r\n",
       "</style>"
      ]
     },
     "metadata": {},
     "output_type": "display_data"
    },
    {
     "data": {
      "text/csv": [
       "Logical Name,File Location\n",
       "TPCC_01,\\\\10.8.49.102\\bzeygjdz2k34o26tvd95067ec\\c\\mnt\\sqldata\\TPCC_01.mdf\n",
       "TPCC_log,\\\\10.8.49.102\\bzeygjdz2k34o26tvd95067ec\\c\\mnt\\sqllogs\\TPCC_log.ldf\n",
       "TPCC_02,\\\\10.8.49.102\\bzeygjdz2k34o26tvd95067ec\\c\\mnt\\sqldata\\TPCC_02.ndf\n",
       "TPCC_03,\\\\10.8.49.102\\bzeygjdz2k34o26tvd95067ec\\c\\mnt\\sqldata\\TPCC_03.ndf\n",
       "TPCC_04,\\\\10.8.49.102\\bzeygjdz2k34o26tvd95067ec\\c\\mnt\\sqldata\\TPCC_04.ndf\n",
       "TPCC_05,\\\\10.8.49.102\\bzeygjdz2k34o26tvd95067ec\\c\\mnt\\sqldata\\TPCC_05.ndf\n",
       "TPCC_06,\\\\10.8.49.102\\bzeygjdz2k34o26tvd95067ec\\c\\mnt\\sqldata\\TPCC_06.ndf\n",
       "TPCC_07,\\\\10.8.49.102\\bzeygjdz2k34o26tvd95067ec\\c\\mnt\\sqldata\\TPCC_07.ndf\n",
       "TPCC_08,\\\\10.8.49.102\\bzeygjdz2k34o26tvd95067ec\\c\\mnt\\sqldata\\TPCC_08.ndf\n",
       "TPCC_09,\\\\10.8.49.102\\bzeygjdz2k34o26tvd95067ec\\c\\mnt\\sqldata\\TPCC_09.ndf\n",
       "TPCC_10,\\\\10.8.49.102\\bzeygjdz2k34o26tvd95067ec\\c\\mnt\\sqldata\\TPCC_10.ndf\n"
      ],
      "text/html": [
       "<table><thead><tr><td><span>Logical Name</span></td><td><span>File Location</span></td></tr></thead><tbody><tr><td>TPCC_01</td><td>\\\\10.8.49.102\\bzeygjdz2k34o26tvd95067ec\\c\\mnt\\sqldata\\TPCC_01.mdf</td></tr><tr><td>TPCC_log</td><td>\\\\10.8.49.102\\bzeygjdz2k34o26tvd95067ec\\c\\mnt\\sqllogs\\TPCC_log.ldf</td></tr><tr><td>TPCC_02</td><td>\\\\10.8.49.102\\bzeygjdz2k34o26tvd95067ec\\c\\mnt\\sqldata\\TPCC_02.ndf</td></tr><tr><td>TPCC_03</td><td>\\\\10.8.49.102\\bzeygjdz2k34o26tvd95067ec\\c\\mnt\\sqldata\\TPCC_03.ndf</td></tr><tr><td>TPCC_04</td><td>\\\\10.8.49.102\\bzeygjdz2k34o26tvd95067ec\\c\\mnt\\sqldata\\TPCC_04.ndf</td></tr><tr><td>TPCC_05</td><td>\\\\10.8.49.102\\bzeygjdz2k34o26tvd95067ec\\c\\mnt\\sqldata\\TPCC_05.ndf</td></tr><tr><td>TPCC_06</td><td>\\\\10.8.49.102\\bzeygjdz2k34o26tvd95067ec\\c\\mnt\\sqldata\\TPCC_06.ndf</td></tr><tr><td>TPCC_07</td><td>\\\\10.8.49.102\\bzeygjdz2k34o26tvd95067ec\\c\\mnt\\sqldata\\TPCC_07.ndf</td></tr><tr><td>TPCC_08</td><td>\\\\10.8.49.102\\bzeygjdz2k34o26tvd95067ec\\c\\mnt\\sqldata\\TPCC_08.ndf</td></tr><tr><td>TPCC_09</td><td>\\\\10.8.49.102\\bzeygjdz2k34o26tvd95067ec\\c\\mnt\\sqldata\\TPCC_09.ndf</td></tr><tr><td>TPCC_10</td><td>\\\\10.8.49.102\\bzeygjdz2k34o26tvd95067ec\\c\\mnt\\sqldata\\TPCC_10.ndf</td></tr></tbody></table><style>\r\n",
       ".dni-code-hint {\r\n",
       "    font-style: italic;\r\n",
       "    overflow: hidden;\r\n",
       "    white-space: nowrap;\r\n",
       "}\r\n",
       ".dni-treeview {\r\n",
       "    white-space: nowrap;\r\n",
       "}\r\n",
       ".dni-treeview td {\r\n",
       "    vertical-align: top;\r\n",
       "    text-align: start;\r\n",
       "}\r\n",
       "details.dni-treeview {\r\n",
       "    padding-left: 1em;\r\n",
       "}\r\n",
       "table td {\r\n",
       "    text-align: start;\r\n",
       "}\r\n",
       "table tr { \r\n",
       "    vertical-align: top; \r\n",
       "    margin: 0em 0px;\r\n",
       "}\r\n",
       "table tr td pre \r\n",
       "{ \r\n",
       "    vertical-align: top !important; \r\n",
       "    margin: 0em 0px !important;\r\n",
       "} \r\n",
       "table th {\r\n",
       "    text-align: start;\r\n",
       "}\r\n",
       "</style>"
      ]
     },
     "metadata": {},
     "output_type": "display_data"
    }
   ],
   "source": [
    "#!sql-TPCCDemo\n",
    "USE [TPCC_2000GB]\n",
    "SELECT\n",
    "  name 'Logical Name', \n",
    "  physical_name 'File Location'\n",
    "FROM sys.database_files;\n",
    "USE [livemount]\n",
    "SELECT\n",
    "  name 'Logical Name', \n",
    "  physical_name 'File Location'\n",
    "FROM sys.database_files;"
   ]
  },
  {
   "attachments": {},
   "cell_type": "markdown",
   "metadata": {},
   "source": [
    "### List user databases and sizes"
   ]
  },
  {
   "cell_type": "code",
   "execution_count": 13,
   "metadata": {
    "azdata_cell_guid": "1576478e-5ad3-4d84-b7d2-a20966e2340a",
    "dotnet_interactive": {
     "language": "sql"
    },
    "extensions": {
     "azuredatastudio": {
      "views": []
     }
    },
    "language": "dotnet-interactive.sql"
   },
   "outputs": [
    {
     "data": {
      "text/plain": [
       "(7 rows affected)"
      ]
     },
     "metadata": {},
     "output_type": "display_data"
    },
    {
     "data": {
      "text/csv": [
       "name,DataFileSizeInMB,LogFileSizeInMB\n",
       "TPCC_2000GB,2232762.000000,48577.000000\n",
       "TPCC_5000GB,5210112.000000,1032.000000\n",
       "rafa-bulk,16.000000,8.000000\n",
       "rafa,16.000000,8.000000\n",
       "rafa-new,16.000000,8.000000\n",
       "Demo_LM,2232762.000000,48577.000000\n",
       "LiveMount,2232762.000000,48577.000000\n"
      ],
      "text/html": [
       "<table><thead><tr><td><span>name</span></td><td><span>DataFileSizeInMB</span></td><td><span>LogFileSizeInMB</span></td></tr></thead><tbody><tr><td>TPCC_2000GB</td><td><div class=\"dni-plaintext\"><pre>2232762.000000</pre></div></td><td><div class=\"dni-plaintext\"><pre>48577.000000</pre></div></td></tr><tr><td>TPCC_5000GB</td><td><div class=\"dni-plaintext\"><pre>5210112.000000</pre></div></td><td><div class=\"dni-plaintext\"><pre>1032.000000</pre></div></td></tr><tr><td>rafa-bulk</td><td><div class=\"dni-plaintext\"><pre>16.000000</pre></div></td><td><div class=\"dni-plaintext\"><pre>8.000000</pre></div></td></tr><tr><td>rafa</td><td><div class=\"dni-plaintext\"><pre>16.000000</pre></div></td><td><div class=\"dni-plaintext\"><pre>8.000000</pre></div></td></tr><tr><td>rafa-new</td><td><div class=\"dni-plaintext\"><pre>16.000000</pre></div></td><td><div class=\"dni-plaintext\"><pre>8.000000</pre></div></td></tr><tr><td>Demo_LM</td><td><div class=\"dni-plaintext\"><pre>2232762.000000</pre></div></td><td><div class=\"dni-plaintext\"><pre>48577.000000</pre></div></td></tr><tr><td>LiveMount</td><td><div class=\"dni-plaintext\"><pre>2232762.000000</pre></div></td><td><div class=\"dni-plaintext\"><pre>48577.000000</pre></div></td></tr></tbody></table><style>\r\n",
       ".dni-code-hint {\r\n",
       "    font-style: italic;\r\n",
       "    overflow: hidden;\r\n",
       "    white-space: nowrap;\r\n",
       "}\r\n",
       ".dni-treeview {\r\n",
       "    white-space: nowrap;\r\n",
       "}\r\n",
       ".dni-treeview td {\r\n",
       "    vertical-align: top;\r\n",
       "    text-align: start;\r\n",
       "}\r\n",
       "details.dni-treeview {\r\n",
       "    padding-left: 1em;\r\n",
       "}\r\n",
       "table td {\r\n",
       "    text-align: start;\r\n",
       "}\r\n",
       "table tr { \r\n",
       "    vertical-align: top; \r\n",
       "    margin: 0em 0px;\r\n",
       "}\r\n",
       "table tr td pre \r\n",
       "{ \r\n",
       "    vertical-align: top !important; \r\n",
       "    margin: 0em 0px !important;\r\n",
       "} \r\n",
       "table th {\r\n",
       "    text-align: start;\r\n",
       "}\r\n",
       "</style>"
      ]
     },
     "metadata": {},
     "output_type": "display_data"
    }
   ],
   "source": [
    "#!sql-TPCCDemo\n",
    "with fs\n",
    "as\n",
    "(\n",
    "    select database_id, type, size * 8.0 / 1024 size\n",
    "    from sys.master_files\n",
    ")\n",
    "select\n",
    "    name,\n",
    "    (select sum(size) from fs where type = 0 and fs.database_id = db.database_id) DataFileSizeInMB,\n",
    "    (select sum(size) from fs where type = 1 and fs.database_id = db.database_id) LogFileSizeInMB\n",
    "from sys.databases db\n",
    "where db.database_id > 4"
   ]
  },
  {
   "attachments": {},
   "cell_type": "markdown",
   "metadata": {},
   "source": [
    "## Recover the **warehouse** table"
   ]
  },
  {
   "attachments": {},
   "cell_type": "markdown",
   "metadata": {},
   "source": [
    "### Put records back"
   ]
  },
  {
   "cell_type": "code",
   "execution_count": 14,
   "metadata": {
    "azdata_cell_guid": "c8a5e9d6-a94d-4904-a691-34e30aee5ac3",
    "dotnet_interactive": {
     "language": "sql"
    },
    "language": "dotnet-interactive.csharp"
   },
   "outputs": [
    {
     "data": {
      "text/plain": [
       "(30000 rows affected)"
      ]
     },
     "metadata": {},
     "output_type": "display_data"
    }
   ],
   "source": [
    "#!sql-TPCCDemo\n",
    "INSERT INTO TPCC_2000GB.dbo.warehouse\n",
    "SELECT * FROM livemount.dbo.warehouse"
   ]
  },
  {
   "attachments": {},
   "cell_type": "markdown",
   "metadata": {},
   "source": [
    "## Recover the **district** table"
   ]
  },
  {
   "attachments": {},
   "cell_type": "markdown",
   "metadata": {},
   "source": [
    "### Create the district table"
   ]
  },
  {
   "cell_type": "code",
   "execution_count": 15,
   "metadata": {
    "azdata_cell_guid": "8c91ddc0-969d-4c3c-b754-e4a4436f3f03",
    "dotnet_interactive": {
     "language": "sql"
    },
    "language": "dotnet-interactive.csharp"
   },
   "outputs": [
    {
     "data": {
      "text/plain": [
       "Commands completed successfully."
      ]
     },
     "metadata": {},
     "output_type": "display_data"
    },
    {
     "data": {
      "text/plain": [
       "Commands completed successfully."
      ]
     },
     "metadata": {},
     "output_type": "display_data"
    },
    {
     "data": {
      "text/plain": [
       "Commands completed successfully."
      ]
     },
     "metadata": {},
     "output_type": "display_data"
    },
    {
     "data": {
      "text/plain": [
       "Commands completed successfully."
      ]
     },
     "metadata": {},
     "output_type": "display_data"
    },
    {
     "data": {
      "text/plain": [
       "Commands completed successfully."
      ]
     },
     "metadata": {},
     "output_type": "display_data"
    }
   ],
   "source": [
    "#!sql-TPCCDemo\n",
    "USE TPCC_2000GB\n",
    "SET ANSI_NULLS ON\n",
    "GO\n",
    "SET QUOTED_IDENTIFIER ON\n",
    "GO\n",
    "CREATE TABLE [dbo].[district](\n",
    "\t[d_id] [tinyint] NOT NULL,\n",
    "\t[d_w_id] [int] NOT NULL,\n",
    "\t[d_ytd] [money] NOT NULL,\n",
    "\t[d_next_o_id] [int] NULL,\n",
    "\t[d_tax] [smallmoney] NULL,\n",
    "\t[d_name] [char](10) NULL,\n",
    "\t[d_street_1] [char](20) NULL,\n",
    "\t[d_street_2] [char](20) NULL,\n",
    "\t[d_city] [char](20) NULL,\n",
    "\t[d_state] [char](2) NULL,\n",
    "\t[d_zip] [char](9) NULL,\n",
    "\t[padding] [char](6000) NOT NULL\n",
    ") ON [PRIMARY]\n",
    "GO\n",
    "ALTER TABLE [dbo].[district] SET (LOCK_ESCALATION = DISABLE)\n",
    "GO\n",
    "ALTER TABLE [dbo].[district] ADD  CONSTRAINT [PK_DISTRICT] PRIMARY KEY CLUSTERED \n",
    "(\n",
    "\t[d_w_id] ASC,\n",
    "\t[d_id] ASC\n",
    ")WITH (PAD_INDEX = OFF, STATISTICS_NORECOMPUTE = OFF, SORT_IN_TEMPDB = OFF, IGNORE_DUP_KEY = OFF, ONLINE = OFF, ALLOW_ROW_LOCKS = ON, ALLOW_PAGE_LOCKS = ON) ON [PRIMARY]\n",
    "GO\n"
   ]
  },
  {
   "attachments": {},
   "cell_type": "markdown",
   "metadata": {},
   "source": [
    "### Put the records back"
   ]
  },
  {
   "cell_type": "code",
   "execution_count": 16,
   "metadata": {
    "azdata_cell_guid": "7de6c2b9-cf13-46d1-9de2-efd968163b13",
    "dotnet_interactive": {
     "language": "sql"
    },
    "language": "dotnet-interactive.csharp"
   },
   "outputs": [
    {
     "data": {
      "text/plain": [
       "(300000 rows affected)"
      ]
     },
     "metadata": {},
     "output_type": "display_data"
    }
   ],
   "source": [
    "#!sql-TPCCDemo\n",
    "INSERT INTO TPCC_2000GB.dbo.district\n",
    "SELECT * FROM livemount.dbo.district"
   ]
  },
  {
   "attachments": {},
   "cell_type": "markdown",
   "metadata": {},
   "source": [
    "## List the tables and their sizes"
   ]
  },
  {
   "cell_type": "code",
   "execution_count": 17,
   "metadata": {
    "azdata_cell_guid": "c4d6d16d-2ba2-461a-b4d7-51f1d18f9d14",
    "dotnet_interactive": {
     "language": "sql"
    },
    "extensions": {
     "azuredatastudio": {
      "views": []
     }
    },
    "language": "dotnet-interactive.sql"
   },
   "outputs": [
    {
     "data": {
      "text/plain": [
       "(10 rows affected)"
      ]
     },
     "metadata": {},
     "output_type": "display_data"
    },
    {
     "data": {
      "text/csv": [
       "TableName,SchemaName,rows,TotalSpaceKB,TotalSpaceMB,UsedSpaceKB,UsedSpaceMB,UnusedSpaceKB,UnusedSpaceMB\n",
       "BackupTimeTable,dbo,350,144,0.14,88,0.09,56,0.05\n",
       "customer,dbo,900000000,654549072,639208.08,654547000,639206.05,2072,2.02\n",
       "district,dbo,300000,2409760,2353.28,2409616,2353.14,144,0.14\n",
       "history,dbo,900000000,52558336,51326.50,52555200,51323.44,3136,3.06\n",
       "item,dbo,100000,9616,9.39,9520,9.30,96,0.09\n",
       "new_order,dbo,270000000,4816608,4703.72,4810936,4698.18,5672,5.54\n",
       "order_line,dbo,9000027799,590169528,576337.43,590167376,576335.33,2152,2.10\n",
       "orders,dbo,900000000,29391024,28702.17,29388448,28699.66,2576,2.52\n",
       "stock,dbo,2953200000,949449944,927197.21,949444720,927192.11,5224,5.10\n",
       "warehouse,dbo,30000,241248,235.59,241056,235.41,192,0.19\n"
      ],
      "text/html": [
       "<table><thead><tr><td><span>TableName</span></td><td><span>SchemaName</span></td><td><span>rows</span></td><td><span>TotalSpaceKB</span></td><td><span>TotalSpaceMB</span></td><td><span>UsedSpaceKB</span></td><td><span>UsedSpaceMB</span></td><td><span>UnusedSpaceKB</span></td><td><span>UnusedSpaceMB</span></td></tr></thead><tbody><tr><td>BackupTimeTable</td><td>dbo</td><td><div class=\"dni-plaintext\"><pre>350</pre></div></td><td><div class=\"dni-plaintext\"><pre>144</pre></div></td><td><div class=\"dni-plaintext\"><pre>0.14</pre></div></td><td><div class=\"dni-plaintext\"><pre>88</pre></div></td><td><div class=\"dni-plaintext\"><pre>0.09</pre></div></td><td><div class=\"dni-plaintext\"><pre>56</pre></div></td><td><div class=\"dni-plaintext\"><pre>0.05</pre></div></td></tr><tr><td>customer</td><td>dbo</td><td><div class=\"dni-plaintext\"><pre>900000000</pre></div></td><td><div class=\"dni-plaintext\"><pre>654549072</pre></div></td><td><div class=\"dni-plaintext\"><pre>639208.08</pre></div></td><td><div class=\"dni-plaintext\"><pre>654547000</pre></div></td><td><div class=\"dni-plaintext\"><pre>639206.05</pre></div></td><td><div class=\"dni-plaintext\"><pre>2072</pre></div></td><td><div class=\"dni-plaintext\"><pre>2.02</pre></div></td></tr><tr><td>district</td><td>dbo</td><td><div class=\"dni-plaintext\"><pre>300000</pre></div></td><td><div class=\"dni-plaintext\"><pre>2409760</pre></div></td><td><div class=\"dni-plaintext\"><pre>2353.28</pre></div></td><td><div class=\"dni-plaintext\"><pre>2409616</pre></div></td><td><div class=\"dni-plaintext\"><pre>2353.14</pre></div></td><td><div class=\"dni-plaintext\"><pre>144</pre></div></td><td><div class=\"dni-plaintext\"><pre>0.14</pre></div></td></tr><tr><td>history</td><td>dbo</td><td><div class=\"dni-plaintext\"><pre>900000000</pre></div></td><td><div class=\"dni-plaintext\"><pre>52558336</pre></div></td><td><div class=\"dni-plaintext\"><pre>51326.50</pre></div></td><td><div class=\"dni-plaintext\"><pre>52555200</pre></div></td><td><div class=\"dni-plaintext\"><pre>51323.44</pre></div></td><td><div class=\"dni-plaintext\"><pre>3136</pre></div></td><td><div class=\"dni-plaintext\"><pre>3.06</pre></div></td></tr><tr><td>item</td><td>dbo</td><td><div class=\"dni-plaintext\"><pre>100000</pre></div></td><td><div class=\"dni-plaintext\"><pre>9616</pre></div></td><td><div class=\"dni-plaintext\"><pre>9.39</pre></div></td><td><div class=\"dni-plaintext\"><pre>9520</pre></div></td><td><div class=\"dni-plaintext\"><pre>9.30</pre></div></td><td><div class=\"dni-plaintext\"><pre>96</pre></div></td><td><div class=\"dni-plaintext\"><pre>0.09</pre></div></td></tr><tr><td>new_order</td><td>dbo</td><td><div class=\"dni-plaintext\"><pre>270000000</pre></div></td><td><div class=\"dni-plaintext\"><pre>4816608</pre></div></td><td><div class=\"dni-plaintext\"><pre>4703.72</pre></div></td><td><div class=\"dni-plaintext\"><pre>4810936</pre></div></td><td><div class=\"dni-plaintext\"><pre>4698.18</pre></div></td><td><div class=\"dni-plaintext\"><pre>5672</pre></div></td><td><div class=\"dni-plaintext\"><pre>5.54</pre></div></td></tr><tr><td>order_line</td><td>dbo</td><td><div class=\"dni-plaintext\"><pre>9000027799</pre></div></td><td><div class=\"dni-plaintext\"><pre>590169528</pre></div></td><td><div class=\"dni-plaintext\"><pre>576337.43</pre></div></td><td><div class=\"dni-plaintext\"><pre>590167376</pre></div></td><td><div class=\"dni-plaintext\"><pre>576335.33</pre></div></td><td><div class=\"dni-plaintext\"><pre>2152</pre></div></td><td><div class=\"dni-plaintext\"><pre>2.10</pre></div></td></tr><tr><td>orders</td><td>dbo</td><td><div class=\"dni-plaintext\"><pre>900000000</pre></div></td><td><div class=\"dni-plaintext\"><pre>29391024</pre></div></td><td><div class=\"dni-plaintext\"><pre>28702.17</pre></div></td><td><div class=\"dni-plaintext\"><pre>29388448</pre></div></td><td><div class=\"dni-plaintext\"><pre>28699.66</pre></div></td><td><div class=\"dni-plaintext\"><pre>2576</pre></div></td><td><div class=\"dni-plaintext\"><pre>2.52</pre></div></td></tr><tr><td>stock</td><td>dbo</td><td><div class=\"dni-plaintext\"><pre>2953200000</pre></div></td><td><div class=\"dni-plaintext\"><pre>949449944</pre></div></td><td><div class=\"dni-plaintext\"><pre>927197.21</pre></div></td><td><div class=\"dni-plaintext\"><pre>949444720</pre></div></td><td><div class=\"dni-plaintext\"><pre>927192.11</pre></div></td><td><div class=\"dni-plaintext\"><pre>5224</pre></div></td><td><div class=\"dni-plaintext\"><pre>5.10</pre></div></td></tr><tr><td>warehouse</td><td>dbo</td><td><div class=\"dni-plaintext\"><pre>30000</pre></div></td><td><div class=\"dni-plaintext\"><pre>241248</pre></div></td><td><div class=\"dni-plaintext\"><pre>235.59</pre></div></td><td><div class=\"dni-plaintext\"><pre>241056</pre></div></td><td><div class=\"dni-plaintext\"><pre>235.41</pre></div></td><td><div class=\"dni-plaintext\"><pre>192</pre></div></td><td><div class=\"dni-plaintext\"><pre>0.19</pre></div></td></tr></tbody></table><style>\r\n",
       ".dni-code-hint {\r\n",
       "    font-style: italic;\r\n",
       "    overflow: hidden;\r\n",
       "    white-space: nowrap;\r\n",
       "}\r\n",
       ".dni-treeview {\r\n",
       "    white-space: nowrap;\r\n",
       "}\r\n",
       ".dni-treeview td {\r\n",
       "    vertical-align: top;\r\n",
       "    text-align: start;\r\n",
       "}\r\n",
       "details.dni-treeview {\r\n",
       "    padding-left: 1em;\r\n",
       "}\r\n",
       "table td {\r\n",
       "    text-align: start;\r\n",
       "}\r\n",
       "table tr { \r\n",
       "    vertical-align: top; \r\n",
       "    margin: 0em 0px;\r\n",
       "}\r\n",
       "table tr td pre \r\n",
       "{ \r\n",
       "    vertical-align: top !important; \r\n",
       "    margin: 0em 0px !important;\r\n",
       "} \r\n",
       "table th {\r\n",
       "    text-align: start;\r\n",
       "}\r\n",
       "</style>"
      ]
     },
     "metadata": {},
     "output_type": "display_data"
    }
   ],
   "source": [
    "#!sql-TPCCDemo\n",
    "USE TPCC_2000GB\n",
    "SELECT \n",
    "    t.NAME AS TableName,\n",
    "    s.Name AS SchemaName,\n",
    "    p.rows,\n",
    "    SUM(a.total_pages) * 8 AS TotalSpaceKB, \n",
    "    CAST(ROUND(((SUM(a.total_pages) * 8) / 1024.00), 2) AS NUMERIC(36, 2)) AS TotalSpaceMB,\n",
    "    SUM(a.used_pages) * 8 AS UsedSpaceKB, \n",
    "    CAST(ROUND(((SUM(a.used_pages) * 8) / 1024.00), 2) AS NUMERIC(36, 2)) AS UsedSpaceMB, \n",
    "    (SUM(a.total_pages) - SUM(a.used_pages)) * 8 AS UnusedSpaceKB,\n",
    "    CAST(ROUND(((SUM(a.total_pages) - SUM(a.used_pages)) * 8) / 1024.00, 2) AS NUMERIC(36, 2)) AS UnusedSpaceMB\n",
    "FROM \n",
    "    sys.tables t\n",
    "INNER JOIN      \n",
    "    sys.indexes i ON t.OBJECT_ID = i.object_id\n",
    "INNER JOIN \n",
    "    sys.partitions p ON i.object_id = p.OBJECT_ID AND i.index_id = p.index_id\n",
    "INNER JOIN \n",
    "    sys.allocation_units a ON p.partition_id = a.container_id\n",
    "LEFT OUTER JOIN \n",
    "    sys.schemas s ON t.schema_id = s.schema_id\n",
    "WHERE \n",
    "    t.NAME NOT LIKE 'dt%' \n",
    "    AND t.is_ms_shipped = 0\n",
    "    AND i.OBJECT_ID > 255 \n",
    "GROUP BY \n",
    "    t.Name, s.Name, p.Rows\n",
    "ORDER BY t.Name"
   ]
  },
  {
   "attachments": {},
   "cell_type": "markdown",
   "metadata": {},
   "source": [
    "## Get Rid of the Live Mount"
   ]
  },
  {
   "cell_type": "code",
   "execution_count": 18,
   "metadata": {
    "azdata_cell_guid": "348cff3d-fce6-43ae-9d73-f66c2a494313",
    "dotnet_interactive": {
     "language": "pwsh"
    },
    "language": "dotnet-interactive.pwsh"
   },
   "outputs": [
    {
     "data": {
      "text/plain": []
     },
     "metadata": {},
     "output_type": "display_data"
    },
    {
     "name": "stdout",
     "output_type": "stream",
     "text": [
      "\u001b[93mVERBOSE: HTTP/1.1 POST with 171-byte payload\u001b[0m\n",
      "\u001b[93mVERBOSE: received 580-byte response of content type application/json\u001b[0m\n",
      "\u001b[93mVERBOSE: Content encoding: utf-8\u001b[0m\n",
      "\n",
      "\u001b[32;1mName                           Value\u001b[0m\n",
      "\u001b[32;1m----                           -----\u001b[0m\n",
      "header                         {[User-Agent, RubrikPowerShellSDK-6.0.1--7.3.0--platform--Unix--pla…\n",
      "authType                       ServiceAccount\n",
      "userId                         \n",
      "version                        8.1.1-24187\n",
      "time                           6/1/2023 9:42:18 AM\n",
      "server                         10.8.49.101\n",
      "id                             \n",
      "api                            1\n",
      "\u001b[31;1mRemove-RubrikDatabaseMount: \u001b[0m\n",
      "\u001b[31;1m\u001b[36;1mLine |\u001b[0m\n",
      "\u001b[31;1m\u001b[36;1m\u001b[36;1m   6 | \u001b[0m … uest = Remove-RubrikDatabaseMount -id \u001b[36;1m$RubrikDatabaseMount.id\u001b[0m -Confir …\u001b[0m\n",
      "\u001b[31;1m\u001b[36;1m\u001b[36;1m\u001b[0m\u001b[36;1m\u001b[0m\u001b[36;1m     | \u001b[31;1m                                         ~~~~~~~~~~~~~~~~~~~~~~~\u001b[0m\n",
      "\u001b[31;1m\u001b[36;1m\u001b[36;1m\u001b[0m\u001b[36;1m\u001b[0m\u001b[36;1m\u001b[31;1m\u001b[31;1m\u001b[36;1m     | \u001b[31;1mCannot process argument transformation on parameter 'id'. Cannot convert value to type System.String.\u001b[0m\n",
      "\n",
      "\u001b[32;1mStatus                : \u001b[0mSuccess\n",
      "\u001b[32;1mHTTPStatusCode        : \u001b[0m204\n",
      "\u001b[32;1mHTTPStatusDescription : \u001b[0mNoContent\n",
      "\n",
      "\n"
     ]
    }
   ],
   "source": [
    "# Connect-Rubrik with a Service Account\n",
    "Connect-Rubrik -Server $Server -id $ServiceAccountID -Secret $Secret\n",
    "\n",
    "# Unmount a database from SQL Server\n",
    "$RubrikDatabaseMount = Get-RubrikDatabaseMount -MountedDatabaseName $LiveMountName -TargetInstanceId $TargetInstance.id\n",
    "$RubrikRequest = Remove-RubrikDatabaseMount -id $RubrikDatabaseMount.id -Confirm:$false\n",
    "Disconnect-Rubrik"
   ]
  }
 ],
 "metadata": {
  "kernelspec": {
   "display_name": ".NET (C#)",
   "language": "C#",
   "name": ".net-csharp"
  },
  "language_info": {
   "name": "polyglot-notebook"
  },
  "polyglot_notebook": {
   "kernelInfo": {
    "defaultKernelName": "csharp",
    "items": [
     {
      "aliases": [],
      "name": "csharp"
     },
     {
      "aliases": [],
      "languageName": "T-SQL",
      "name": "sql-mydatabase"
     },
     {
      "aliases": [],
      "languageName": "T-SQL",
      "name": "sql-TPCCDemo"
     }
    ]
   }
  }
 },
 "nbformat": 4,
 "nbformat_minor": 2
}
