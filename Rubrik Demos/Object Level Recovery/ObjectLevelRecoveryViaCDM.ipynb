{
 "cells": [
  {
   "cell_type": "markdown",
   "metadata": {
    "dotnet_interactive": {
     "language": "csharp"
    },
    "polyglot_notebook": {
     "kernelName": "csharp"
    }
   },
   "source": [
    "# Environment Setup\n",
    "This needs to be run the first time you start the notebook"
   ]
  },
  {
   "cell_type": "code",
   "execution_count": null,
   "metadata": {
    "azdata_cell_guid": "bf2784d5-5d40-4f52-af93-47b78c396e62",
    "dotnet_interactive": {
     "language": "csharp"
    },
    "extensions": {
     "azuredatastudio": {
      "views": []
     }
    },
    "language": "dotnet-interactive.csharp",
    "vscode": {
     "languageId": "polyglot-notebook"
    }
   },
   "outputs": [],
   "source": [
    "#r \"nuget:Microsoft.DotNet.Interactive.SqlServer,*-*\""
   ]
  },
  {
   "cell_type": "code",
   "execution_count": null,
   "metadata": {
    "azdata_cell_guid": "f4c94c3e-d1e2-4b9a-9910-5ced1a67adac",
    "dotnet_interactive": {
     "language": "csharp"
    },
    "extensions": {
     "azuredatastudio": {
      "views": []
     }
    },
    "language": "dotnet-interactive.csharp",
    "vscode": {
     "languageId": "polyglot-notebook"
    }
   },
   "outputs": [],
   "source": [
    "#!connect mssql --kernel-name TPCCDemo \"Persist Security Info=False; Integrated Security=true; Initial Catalog=tpcc_2000gb; Server=rp-sql19sl-01.perf.rubrik.com;\""
   ]
  },
  {
   "cell_type": "code",
   "execution_count": null,
   "metadata": {
    "dotnet_interactive": {
     "language": "pwsh"
    },
    "vscode": {
     "languageId": "polyglot-notebook"
    }
   },
   "outputs": [],
   "source": [
    "# Rubrik Connection Information\n",
    "$Server = \"10.8.49.101\"\n",
    "$ServiceAccountID = \"User:::6acf798b-ffed-484a-a484-80846d5c6be2\"\n",
    "$Secret = \"UI9TWr3uPflxjbr1D9ID8gvsmN6kgmygdDD0W9Og8lLi0a1vBPVZ3NvqVKjkaYwS+B2tlSYZF5tPvhzU/03X\"\n",
    "\n",
    "# Source Database Information\n",
    "$SourceSQLServerInstance = \"rp-sql19sl-01.perf.rubrik.com\"\n",
    "$SourceDatabaseName = \"TPCC_2000GB\"\n",
    "\n",
    "# Target Database Information\n",
    "$TargetSQLServerInstance = \"rp-sql19sl-01.perf.rubrik.com\"\n",
    "$LiveMountName = \"LiveMount\""
   ]
  },
  {
   "cell_type": "markdown",
   "metadata": {
    "dotnet_interactive": {
     "language": "csharp"
    },
    "polyglot_notebook": {
     "kernelName": "csharp"
    }
   },
   "source": [
    "# Look at the environment before"
   ]
  },
  {
   "cell_type": "markdown",
   "metadata": {
    "dotnet_interactive": {
     "language": "csharp"
    },
    "polyglot_notebook": {
     "kernelName": "csharp"
    }
   },
   "source": [
    "## List user databases and sizes\n",
    "\n",
    "- <mark>Pay attention to the database name TPCC\\_2000GB</mark>"
   ]
  },
  {
   "cell_type": "code",
   "execution_count": null,
   "metadata": {
    "azdata_cell_guid": "1576478e-5ad3-4d84-b7d2-a20966e2340a",
    "dotnet_interactive": {
     "language": "sql"
    },
    "extensions": {
     "azuredatastudio": {
      "views": []
     }
    },
    "language": "dotnet-interactive.sql",
    "tags": [
     "hide_input"
    ],
    "vscode": {
     "languageId": "polyglot-notebook"
    }
   },
   "outputs": [],
   "source": [
    "#!sql-TPCCDemo\n",
    "with fs\n",
    "as\n",
    "(\n",
    "    select database_id, type, size * 8.0 / 1024 size\n",
    "    from sys.master_files\n",
    ")\n",
    "select\n",
    "    name,\n",
    "    (select sum(size) from fs where type = 0 and fs.database_id = db.database_id) DataFileSizeInMB,\n",
    "    (select sum(size) from fs where type = 1 and fs.database_id = db.database_id) LogFileSizeInMB\n",
    "from sys.databases db\n",
    "where db.database_id > 4"
   ]
  },
  {
   "cell_type": "markdown",
   "metadata": {
    "dotnet_interactive": {
     "language": "csharp"
    },
    "polyglot_notebook": {
     "kernelName": "csharp"
    }
   },
   "source": [
    "## List the tables and their sizes\n",
    "\n",
    "- <mark>Pay attention to the tables named district and warehouse</mark>\n",
    "- Look at the row counts for both of these tables"
   ]
  },
  {
   "cell_type": "code",
   "execution_count": null,
   "metadata": {
    "azdata_cell_guid": "8db66047-6d38-4e0f-a452-69bd2afe05ce",
    "dotnet_interactive": {
     "language": "sql"
    },
    "extensions": {
     "azuredatastudio": {
      "views": []
     }
    },
    "language": "dotnet-interactive.sql",
    "tags": [
     "hide_input"
    ],
    "vscode": {
     "languageId": "polyglot-notebook"
    }
   },
   "outputs": [],
   "source": [
    "#!sql-TPCCDemo\n",
    "USE TPCC_2000GB\n",
    "SELECT \n",
    "    t.NAME AS TableName,\n",
    "    s.Name AS SchemaName,\n",
    "    p.rows,\n",
    "    SUM(a.total_pages) * 8 AS TotalSpaceKB, \n",
    "    CAST(ROUND(((SUM(a.total_pages) * 8) / 1024.00), 2) AS NUMERIC(36, 2)) AS TotalSpaceMB,\n",
    "    SUM(a.used_pages) * 8 AS UsedSpaceKB, \n",
    "    CAST(ROUND(((SUM(a.used_pages) * 8) / 1024.00), 2) AS NUMERIC(36, 2)) AS UsedSpaceMB, \n",
    "    (SUM(a.total_pages) - SUM(a.used_pages)) * 8 AS UnusedSpaceKB,\n",
    "    CAST(ROUND(((SUM(a.total_pages) - SUM(a.used_pages)) * 8) / 1024.00, 2) AS NUMERIC(36, 2)) AS UnusedSpaceMB\n",
    "FROM \n",
    "    sys.tables t\n",
    "INNER JOIN      \n",
    "    sys.indexes i ON t.OBJECT_ID = i.object_id\n",
    "INNER JOIN \n",
    "    sys.partitions p ON i.object_id = p.OBJECT_ID AND i.index_id = p.index_id\n",
    "INNER JOIN \n",
    "    sys.allocation_units a ON p.partition_id = a.container_id\n",
    "LEFT OUTER JOIN \n",
    "    sys.schemas s ON t.schema_id = s.schema_id\n",
    "WHERE \n",
    "    t.NAME NOT LIKE 'dt%' \n",
    "    AND t.is_ms_shipped = 0\n",
    "    AND i.OBJECT_ID > 255 \n",
    "GROUP BY \n",
    "    t.Name, s.Name, p.Rows\n",
    "ORDER BY \n",
    "    TotalSpaceMB DESC, t.Name"
   ]
  },
  {
   "cell_type": "markdown",
   "metadata": {
    "dotnet_interactive": {
     "language": "csharp"
    },
    "polyglot_notebook": {
     "kernelName": "csharp"
    }
   },
   "source": [
    "# Do a bad thing"
   ]
  },
  {
   "cell_type": "markdown",
   "metadata": {
    "dotnet_interactive": {
     "language": "csharp"
    },
    "polyglot_notebook": {
     "kernelName": "csharp"
    }
   },
   "source": [
    "## Delete without a WHERE clause\n",
    "\n",
    "- A user is doing some work in the database. They need to do some clean up and they want to delete 5 entries from the warehouse table. However instead they made a mistake and left their WHERE clause commented out and mistakenly deleted all records from the table."
   ]
  },
  {
   "cell_type": "code",
   "execution_count": null,
   "metadata": {
    "azdata_cell_guid": "69beb3b5-5954-4d64-a764-a24507bd73fd",
    "dotnet_interactive": {
     "language": "sql"
    },
    "extensions": {
     "azuredatastudio": {
      "views": []
     }
    },
    "language": "dotnet-interactive.sql",
    "tags": [],
    "vscode": {
     "languageId": "polyglot-notebook"
    }
   },
   "outputs": [],
   "source": [
    "#!sql-TPCCDemo\n",
    "USE TPCC_2000GB\n",
    "DELETE FROM warehouse\n",
    "--WHERE W_id IN (1,2,3,4,5)"
   ]
  },
  {
   "cell_type": "markdown",
   "metadata": {
    "dotnet_interactive": {
     "language": "csharp"
    },
    "polyglot_notebook": {
     "kernelName": "csharp"
    }
   },
   "source": [
    "## Drop a table\n",
    "\n",
    "- A Junior DBA is doing a change. They think they are in a non-production environment and mistakenly run this code against production."
   ]
  },
  {
   "cell_type": "code",
   "execution_count": null,
   "metadata": {
    "azdata_cell_guid": "a7f03ce2-124f-40a0-8376-e72c79d00af3",
    "dotnet_interactive": {
     "language": "sql"
    },
    "extensions": {
     "azuredatastudio": {
      "views": []
     }
    },
    "language": "dotnet-interactive.sql",
    "vscode": {
     "languageId": "polyglot-notebook"
    }
   },
   "outputs": [],
   "source": [
    "#!sql-TPCCDemo\n",
    "USE TPCC_2000GB\n",
    "DROP TABLE district"
   ]
  },
  {
   "cell_type": "markdown",
   "metadata": {
    "dotnet_interactive": {
     "language": "csharp"
    },
    "polyglot_notebook": {
     "kernelName": "csharp"
    }
   },
   "source": [
    "## List the tables and their sizes\n",
    "\n",
    "- <mark>Pay attention to the tables named district and warehouse</mark>\n",
    "- Notice that the warehouse table has 0 records\n",
    "- Notice the district table no longer exists"
   ]
  },
  {
   "cell_type": "code",
   "execution_count": null,
   "metadata": {
    "azdata_cell_guid": "c4d6d16d-2ba2-461a-b4d7-51f1d18f9d14",
    "dotnet_interactive": {
     "language": "sql"
    },
    "extensions": {
     "azuredatastudio": {
      "views": []
     }
    },
    "language": "dotnet-interactive.sql",
    "tags": [
     "hide_input"
    ],
    "vscode": {
     "languageId": "polyglot-notebook"
    }
   },
   "outputs": [],
   "source": [
    "#!sql-TPCCDemo\n",
    "USE TPCC_2000GB\n",
    "SELECT \n",
    "    t.NAME AS TableName,\n",
    "    s.Name AS SchemaName,\n",
    "    p.rows,\n",
    "    SUM(a.total_pages) * 8 AS TotalSpaceKB, \n",
    "    CAST(ROUND(((SUM(a.total_pages) * 8) / 1024.00), 2) AS NUMERIC(36, 2)) AS TotalSpaceMB,\n",
    "    SUM(a.used_pages) * 8 AS UsedSpaceKB, \n",
    "    CAST(ROUND(((SUM(a.used_pages) * 8) / 1024.00), 2) AS NUMERIC(36, 2)) AS UsedSpaceMB, \n",
    "    (SUM(a.total_pages) - SUM(a.used_pages)) * 8 AS UnusedSpaceKB,\n",
    "    CAST(ROUND(((SUM(a.total_pages) - SUM(a.used_pages)) * 8) / 1024.00, 2) AS NUMERIC(36, 2)) AS UnusedSpaceMB\n",
    "FROM \n",
    "    sys.tables t\n",
    "INNER JOIN      \n",
    "    sys.indexes i ON t.OBJECT_ID = i.object_id\n",
    "INNER JOIN \n",
    "    sys.partitions p ON i.object_id = p.OBJECT_ID AND i.index_id = p.index_id\n",
    "INNER JOIN \n",
    "    sys.allocation_units a ON p.partition_id = a.container_id\n",
    "LEFT OUTER JOIN \n",
    "    sys.schemas s ON t.schema_id = s.schema_id\n",
    "WHERE \n",
    "    t.NAME NOT LIKE 'dt%' \n",
    "    AND t.is_ms_shipped = 0\n",
    "    AND i.OBJECT_ID > 255 \n",
    "GROUP BY \n",
    "    t.Name, s.Name, p.Rows\n",
    "ORDER BY t.Name"
   ]
  },
  {
   "cell_type": "markdown",
   "metadata": {
    "dotnet_interactive": {
     "language": "csharp"
    },
    "polyglot_notebook": {
     "kernelName": "csharp"
    }
   },
   "source": [
    "# Recover from the Bad Thing"
   ]
  },
  {
   "cell_type": "markdown",
   "metadata": {
    "dotnet_interactive": {
     "language": "csharp"
    },
    "polyglot_notebook": {
     "kernelName": "csharp"
    }
   },
   "source": [
    "## Live Mount the last backup"
   ]
  },
  {
   "cell_type": "code",
   "execution_count": null,
   "metadata": {
    "azdata_cell_guid": "15828037-4667-4159-bc6b-27eb4cb21b81",
    "dotnet_interactive": {
     "language": "pwsh"
    },
    "extensions": {
     "azuredatastudio": {
      "views": []
     }
    },
    "language": "dotnet-interactive.pwsh",
    "vscode": {
     "languageId": "polyglot-notebook"
    }
   },
   "outputs": [],
   "source": [
    "# Connect-Rubrik with a Service Account\n",
    "Connect-Rubrik -Server $Server -id $ServiceAccountID -Secret $Secret\n",
    "\n",
    "# Get database information from Rubrik\n",
    "$RubrikDatabase = Get-RubrikDatabase -Name $SourceDatabaseName -ServerInstance $SourceSQLServerInstance\n",
    "\n",
    "#Mount a database to a SQL Server\n",
    "$TargetInstance = Get-RubrikSQLInstance -ServerInstance $TargetSQLServerInstance\n",
    "$RubrikRequest = New-RubrikDatabaseMount -id $RubrikDatabase.id `\n",
    "\t-TargetInstanceId $TargetInstance.id `\n",
    "\t-MountedDatabaseName $LiveMountName `\n",
    "\t-recoveryDateTime (Get-date (Get-RubrikDatabase -id $RubrikDatabase.id).latestRecoveryPoint) `\n",
    "    -Confirm:$false\n",
    "Get-RubrikRequest -id $RubrikRequest.id -Type mssql -WaitForCompletion\n",
    "Disconnect-Rubrik"
   ]
  },
  {
   "cell_type": "markdown",
   "metadata": {
    "dotnet_interactive": {
     "language": "csharp"
    },
    "polyglot_notebook": {
     "kernelName": "csharp"
    }
   },
   "source": [
    "## Look at the environment after"
   ]
  },
  {
   "cell_type": "markdown",
   "metadata": {
    "dotnet_interactive": {
     "language": "csharp"
    },
    "polyglot_notebook": {
     "kernelName": "csharp"
    }
   },
   "source": [
    "### Look at the files of each database"
   ]
  },
  {
   "cell_type": "code",
   "execution_count": null,
   "metadata": {
    "azdata_cell_guid": "abb79f71-d4e9-4c46-8a30-0b8be0ad8c91",
    "dotnet_interactive": {
     "language": "sql"
    },
    "language": "dotnet-interactive.sql",
    "vscode": {
     "languageId": "polyglot-notebook"
    }
   },
   "outputs": [],
   "source": [
    "#!sql-TPCCDemo\n",
    "USE [TPCC_2000GB]\n",
    "SELECT\n",
    "  name 'Logical Name', \n",
    "  physical_name 'File Location'\n",
    "FROM sys.database_files;\n",
    "USE [livemount]\n",
    "SELECT\n",
    "  name 'Logical Name', \n",
    "  physical_name 'File Location'\n",
    "FROM sys.database_files;"
   ]
  },
  {
   "cell_type": "markdown",
   "metadata": {
    "dotnet_interactive": {
     "language": "csharp"
    },
    "polyglot_notebook": {
     "kernelName": "csharp"
    }
   },
   "source": [
    "### List user databases and sizes"
   ]
  },
  {
   "cell_type": "code",
   "execution_count": null,
   "metadata": {
    "azdata_cell_guid": "1576478e-5ad3-4d84-b7d2-a20966e2340a",
    "dotnet_interactive": {
     "language": "sql"
    },
    "extensions": {
     "azuredatastudio": {
      "views": []
     }
    },
    "language": "dotnet-interactive.sql",
    "vscode": {
     "languageId": "polyglot-notebook"
    }
   },
   "outputs": [],
   "source": [
    "#!sql-TPCCDemo\n",
    "with fs\n",
    "as\n",
    "(\n",
    "    select database_id, type, size * 8.0 / 1024 size\n",
    "    from sys.master_files\n",
    ")\n",
    "select\n",
    "    name,\n",
    "    (select sum(size) from fs where type = 0 and fs.database_id = db.database_id) DataFileSizeInMB,\n",
    "    (select sum(size) from fs where type = 1 and fs.database_id = db.database_id) LogFileSizeInMB\n",
    "from sys.databases db\n",
    "where db.database_id > 4"
   ]
  },
  {
   "cell_type": "markdown",
   "metadata": {
    "dotnet_interactive": {
     "language": "csharp"
    },
    "polyglot_notebook": {
     "kernelName": "csharp"
    }
   },
   "source": [
    "## Recover the **warehouse** table"
   ]
  },
  {
   "cell_type": "markdown",
   "metadata": {
    "dotnet_interactive": {
     "language": "csharp"
    },
    "polyglot_notebook": {
     "kernelName": "csharp"
    }
   },
   "source": [
    "### Put records back"
   ]
  },
  {
   "cell_type": "code",
   "execution_count": null,
   "metadata": {
    "azdata_cell_guid": "c8a5e9d6-a94d-4904-a691-34e30aee5ac3",
    "dotnet_interactive": {
     "language": "sql"
    },
    "language": "dotnet-interactive.csharp",
    "vscode": {
     "languageId": "polyglot-notebook"
    }
   },
   "outputs": [],
   "source": [
    "#!sql-TPCCDemo\n",
    "INSERT INTO TPCC_2000GB.dbo.warehouse\n",
    "SELECT * FROM livemount.dbo.warehouse"
   ]
  },
  {
   "cell_type": "markdown",
   "metadata": {
    "dotnet_interactive": {
     "language": "csharp"
    },
    "polyglot_notebook": {
     "kernelName": "csharp"
    }
   },
   "source": [
    "## Recover the **district** table"
   ]
  },
  {
   "cell_type": "markdown",
   "metadata": {
    "dotnet_interactive": {
     "language": "csharp"
    },
    "polyglot_notebook": {
     "kernelName": "csharp"
    }
   },
   "source": [
    "### Create the district table"
   ]
  },
  {
   "cell_type": "code",
   "execution_count": null,
   "metadata": {
    "azdata_cell_guid": "8c91ddc0-969d-4c3c-b754-e4a4436f3f03",
    "dotnet_interactive": {
     "language": "sql"
    },
    "language": "dotnet-interactive.csharp",
    "vscode": {
     "languageId": "polyglot-notebook"
    }
   },
   "outputs": [],
   "source": [
    "#!sql-TPCCDemo\n",
    "USE TPCC_2000GB\n",
    "SET ANSI_NULLS ON\n",
    "GO\n",
    "SET QUOTED_IDENTIFIER ON\n",
    "GO\n",
    "CREATE TABLE [dbo].[district](\n",
    "\t[d_id] [tinyint] NOT NULL,\n",
    "\t[d_w_id] [int] NOT NULL,\n",
    "\t[d_ytd] [money] NOT NULL,\n",
    "\t[d_next_o_id] [int] NULL,\n",
    "\t[d_tax] [smallmoney] NULL,\n",
    "\t[d_name] [char](10) NULL,\n",
    "\t[d_street_1] [char](20) NULL,\n",
    "\t[d_street_2] [char](20) NULL,\n",
    "\t[d_city] [char](20) NULL,\n",
    "\t[d_state] [char](2) NULL,\n",
    "\t[d_zip] [char](9) NULL,\n",
    "\t[padding] [char](6000) NOT NULL\n",
    ") ON [PRIMARY]\n",
    "GO\n",
    "ALTER TABLE [dbo].[district] SET (LOCK_ESCALATION = DISABLE)\n",
    "GO\n",
    "ALTER TABLE [dbo].[district] ADD  CONSTRAINT [PK_DISTRICT] PRIMARY KEY CLUSTERED \n",
    "(\n",
    "\t[d_w_id] ASC,\n",
    "\t[d_id] ASC\n",
    ")WITH (PAD_INDEX = OFF, STATISTICS_NORECOMPUTE = OFF, SORT_IN_TEMPDB = OFF, IGNORE_DUP_KEY = OFF, ONLINE = OFF, ALLOW_ROW_LOCKS = ON, ALLOW_PAGE_LOCKS = ON) ON [PRIMARY]\n",
    "GO\n"
   ]
  },
  {
   "cell_type": "markdown",
   "metadata": {
    "dotnet_interactive": {
     "language": "csharp"
    },
    "polyglot_notebook": {
     "kernelName": "csharp"
    }
   },
   "source": [
    "### Put the records back"
   ]
  },
  {
   "cell_type": "code",
   "execution_count": null,
   "metadata": {
    "azdata_cell_guid": "7de6c2b9-cf13-46d1-9de2-efd968163b13",
    "dotnet_interactive": {
     "language": "sql"
    },
    "language": "dotnet-interactive.csharp",
    "vscode": {
     "languageId": "polyglot-notebook"
    }
   },
   "outputs": [],
   "source": [
    "#!sql-TPCCDemo\n",
    "INSERT INTO TPCC_2000GB.dbo.district\n",
    "SELECT * FROM livemount.dbo.district"
   ]
  },
  {
   "cell_type": "markdown",
   "metadata": {
    "dotnet_interactive": {
     "language": "csharp"
    },
    "polyglot_notebook": {
     "kernelName": "csharp"
    }
   },
   "source": [
    "## List the tables and their sizes"
   ]
  },
  {
   "cell_type": "code",
   "execution_count": null,
   "metadata": {
    "azdata_cell_guid": "c4d6d16d-2ba2-461a-b4d7-51f1d18f9d14",
    "dotnet_interactive": {
     "language": "sql"
    },
    "extensions": {
     "azuredatastudio": {
      "views": []
     }
    },
    "language": "dotnet-interactive.sql",
    "vscode": {
     "languageId": "polyglot-notebook"
    }
   },
   "outputs": [],
   "source": [
    "#!sql-TPCCDemo\n",
    "USE TPCC_2000GB\n",
    "SELECT \n",
    "    t.NAME AS TableName,\n",
    "    s.Name AS SchemaName,\n",
    "    p.rows,\n",
    "    SUM(a.total_pages) * 8 AS TotalSpaceKB, \n",
    "    CAST(ROUND(((SUM(a.total_pages) * 8) / 1024.00), 2) AS NUMERIC(36, 2)) AS TotalSpaceMB,\n",
    "    SUM(a.used_pages) * 8 AS UsedSpaceKB, \n",
    "    CAST(ROUND(((SUM(a.used_pages) * 8) / 1024.00), 2) AS NUMERIC(36, 2)) AS UsedSpaceMB, \n",
    "    (SUM(a.total_pages) - SUM(a.used_pages)) * 8 AS UnusedSpaceKB,\n",
    "    CAST(ROUND(((SUM(a.total_pages) - SUM(a.used_pages)) * 8) / 1024.00, 2) AS NUMERIC(36, 2)) AS UnusedSpaceMB\n",
    "FROM \n",
    "    sys.tables t\n",
    "INNER JOIN      \n",
    "    sys.indexes i ON t.OBJECT_ID = i.object_id\n",
    "INNER JOIN \n",
    "    sys.partitions p ON i.object_id = p.OBJECT_ID AND i.index_id = p.index_id\n",
    "INNER JOIN \n",
    "    sys.allocation_units a ON p.partition_id = a.container_id\n",
    "LEFT OUTER JOIN \n",
    "    sys.schemas s ON t.schema_id = s.schema_id\n",
    "WHERE \n",
    "    t.NAME NOT LIKE 'dt%' \n",
    "    AND t.is_ms_shipped = 0\n",
    "    AND i.OBJECT_ID > 255 \n",
    "GROUP BY \n",
    "    t.Name, s.Name, p.Rows\n",
    "ORDER BY t.Name"
   ]
  },
  {
   "cell_type": "markdown",
   "metadata": {
    "dotnet_interactive": {
     "language": "csharp"
    },
    "polyglot_notebook": {
     "kernelName": "csharp"
    }
   },
   "source": [
    "## Get Rid of the Live Mount"
   ]
  },
  {
   "cell_type": "code",
   "execution_count": null,
   "metadata": {
    "azdata_cell_guid": "348cff3d-fce6-43ae-9d73-f66c2a494313",
    "dotnet_interactive": {
     "language": "pwsh"
    },
    "language": "dotnet-interactive.pwsh",
    "vscode": {
     "languageId": "polyglot-notebook"
    }
   },
   "outputs": [],
   "source": [
    "# Connect-Rubrik with a Service Account\n",
    "Connect-Rubrik -Server $Server -id $ServiceAccountID -Secret $Secret\n",
    "\n",
    "# Unmount a database from SQL Server\n",
    "$RubrikDatabaseMount = Get-RubrikDatabaseMount -MountedDatabaseName $LiveMountName -TargetInstanceId $TargetInstance.id\n",
    "$RubrikRequest = Remove-RubrikDatabaseMount -id $RubrikDatabaseMount.id -Confirm:$false\n",
    "Disconnect-Rubrik"
   ]
  }
 ],
 "metadata": {
  "kernelspec": {
   "display_name": ".NET (C#)",
   "language": "C#",
   "name": ".net-csharp"
  },
  "polyglot_notebook": {
   "kernelInfo": {
    "defaultKernelName": "csharp",
    "items": [
     {
      "aliases": [],
      "name": "csharp"
     }
    ]
   }
  }
 },
 "nbformat": 4,
 "nbformat_minor": 2
}
