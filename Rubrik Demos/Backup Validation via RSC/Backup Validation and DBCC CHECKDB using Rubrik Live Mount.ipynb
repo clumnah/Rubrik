{
 "cells": [
  {
   "attachments": {},
   "cell_type": "markdown",
   "metadata": {
    "azdata_cell_guid": "9c17b896-0338-4392-8523-f1c68ca42bdb"
   },
   "source": [
    "# Backup Validation and DBCC CHECKDB using Rubrik Live Mount"
   ]
  },
  {
   "attachments": {},
   "cell_type": "markdown",
   "metadata": {},
   "source": [
    "## Backup Validatation of a database using Live Mount"
   ]
  },
  {
   "attachments": {},
   "cell_type": "markdown",
   "metadata": {},
   "source": [
    "Live mount allows for near instant recovery of a database. If a database restore/export normally takes hours, then live mounting a database will take a few minutes. Live Mount does a full recovery of a database to either the same SQL Server Instance with a different database name or another SQL Server Instance with the same or different database name. The recovery of the database is much faster, because Rubrik does not need to copy the contents of the backup from the Rubrik Cluster back to the SQL Server. All of the recovery work is done on the Rubrik cluster itself. Then the database files are presented to the SQL Server Instance via a secure SMB3 share that is only accessible by the machine the share is mounted to.\n",
    "\n",
    "Live Mounting a database is great for a lot of different use cases:\n",
    "- DBA Backup validation testing\n",
    "- Object level recovery\n",
    "- Developer testing\n",
    "- DevOps Automation\n",
    "- Reporting databases\n",
    "- Database migration application smoke test validation.\n",
    "\n",
    "A key parameter is RecoveryDateTime. All dates in Rubrik are stored in UTC format. This parameter is expecting a fully qualified date and time in UTC format. example value is 2018-08-01T02:00:00.000Z. In the example below, we are pulling the latest recovery point that Rubrik knows about.\n",
    "\n",
    "**This article serves as a way to demonstrate how to use Live Mount for Backup Validation.**\n",
    "\n",
    "***The code examples below make use of the Rubrik, SQL Server and dbatools Powershell Modules. This is meant to be an example and not the explicit way to achieve backup validation and database integrity checks. Please review this content and use as a way to write your own validation process.***"
   ]
  },
  {
   "attachments": {},
   "cell_type": "markdown",
   "metadata": {},
   "source": [
    "# Environment Setup\n",
    "This needs to be run the first time you start the notebook"
   ]
  },
  {
   "cell_type": "code",
   "execution_count": null,
   "metadata": {
    "dotnet_interactive": {
     "language": "csharp"
    },
    "polyglot_notebook": {
     "kernelName": "csharp"
    }
   },
   "outputs": [],
   "source": [
    "#r \"nuget:Microsoft.DotNet.Interactive.SqlServer,*-*\""
   ]
  },
  {
   "cell_type": "code",
   "execution_count": null,
   "metadata": {
    "dotnet_interactive": {
     "language": "csharp"
    },
    "polyglot_notebook": {
     "kernelName": "csharp"
    }
   },
   "outputs": [],
   "source": [
    "#!connect mssql --kernel-name DBCCDemo \"Persist Security Info=False; TrustServerCertificate=True; Integrated Security=true; Initial Catalog=AdventureWorks2019; Server=rp-sql19s-001.perf.rubrik.com;\""
   ]
  },
  {
   "cell_type": "code",
   "execution_count": null,
   "metadata": {
    "azdata_cell_guid": "231ca119-82c9-4157-a77b-84eea3b0bcd8",
    "dotnet_interactive": {
     "language": "pwsh"
    },
    "language": "dotnet-interactive.pwsh",
    "tags": []
   },
   "outputs": [],
   "source": [
    "# Rubrik Connection Information\n",
    "$ClientID = op read op://Rubrik/RSCDemoServiceAccount/username\n",
    "$ClientSecret = ConvertTo-SecureString -String (op read op://Rubrik/RSCDemoServiceAccount/credential) -AsPlainText\n",
    "$AccessTokenURI = op read op://Rubrik/RSCDemoServiceAccount/hostname\n",
    "\n",
    "Import-Module RubrikSecurityCloud\n",
    "\n",
    "# Source Database Information\n",
    "$SourceSQLServerInstance = \"rp-sql19s-001.perf.rubrik.com\"\n",
    "$SourceDatabaseName = \"AdventureWorks2019\"\n",
    "\n",
    "# Target Database Information\n",
    "$TargetSQLServerInstance = \"rp-sql19s-001.perf.rubrik.com\"\n",
    "$LiveMountName = \"AdventureWorks2019_LiveMount\""
   ]
  },
  {
   "attachments": {},
   "cell_type": "markdown",
   "metadata": {},
   "source": [
    "# Mount the database to a SQL Server\n",
    "The below example will live mount a database to the latest recovery point that Rubrik knows about. Depending on the recovery model of the database and the backups that have been run against the database, this could include the snapshot and the transaction log backups. "
   ]
  },
  {
   "attachments": {},
   "cell_type": "markdown",
   "metadata": {},
   "source": [
    "## Connect to Rubrik Security Cloud"
   ]
  },
  {
   "cell_type": "code",
   "execution_count": null,
   "metadata": {
    "azdata_cell_guid": "54ba6624-d81b-497e-b4cf-073303b076e5",
    "dotnet_interactive": {
     "language": "pwsh"
    },
    "language": "dotnet-interactive.pwsh"
   },
   "outputs": [],
   "source": [
    "Connect-RSC -Server $AccessTokenURI -ClientId $ClientID -ClientSecret $ClientSecret"
   ]
  },
  {
   "attachments": {},
   "cell_type": "markdown",
   "metadata": {},
   "source": [
    " ## Get database information from Rubrik"
   ]
  },
  {
   "cell_type": "code",
   "execution_count": null,
   "metadata": {
    "dotnet_interactive": {
     "language": "pwsh"
    },
    "polyglot_notebook": {
     "kernelName": "pwsh"
    }
   },
   "outputs": [],
   "source": [
    "$RSCFields = Get-RscType -Name MssqlDatabase -InitialProperties @('Name','Id', 'PhysicalPath.Name', 'PhysicalPath.Fid', 'PhysicalPath.ObjectType', 'IsMount', 'IsRelic', 'ObjectType','IsInAvailabilityGroup')\n",
    "$RSCdb = Get-RscMssqlDatabase -Name $SourceDatabaseName -Fields $RSCFields | Where-Object { $_.PhysicalPath.Name -eq $SourceSQLServerInstance -and $_.IsMount -eq $false -and $_.IsRelic -eq $false}\n",
    "# $RSCDB | FL *\n",
    "$RSCMSSQLInstanceId = ($RSCdb.PhysicalPath  | Where-Object {$_.ObjectType -eq \"MSSQL_INSTANCE\"} | Select-Object Fid).fid\n",
    "$RSCMSSQLInstanceId "
   ]
  },
  {
   "attachments": {},
   "cell_type": "markdown",
   "metadata": {},
   "source": [
    "## Get Latest Recovery Point of the Database"
   ]
  },
  {
   "cell_type": "code",
   "execution_count": null,
   "metadata": {
    "dotnet_interactive": {
     "language": "pwsh"
    },
    "polyglot_notebook": {
     "kernelName": "pwsh"
    }
   },
   "outputs": [],
   "source": [
    "$RSCMSSQLDatabaseLatestRecoveryPoint = Get-RscMssqlDatabaseRecoveryPoint -id $RSCdb.id -LastFull\n",
    "$RSCMSSQLDatabaseLatestRecoveryPoint"
   ]
  },
  {
   "cell_type": "code",
   "execution_count": null,
   "metadata": {
    "dotnet_interactive": {
     "language": "pwsh"
    },
    "polyglot_notebook": {
     "kernelName": "pwsh"
    }
   },
   "outputs": [],
   "source": [
    "$LiveMountConfig = @{\n",
    "    \"id\" = \"$($RSCdb.id)\"\n",
    "    \"config\" = @{\n",
    "        \"targetInstanceId\" = \"$RSCMSSQLInstanceId\"\n",
    "        \"mountedDatabaseName\" = \"$($LiveMountName)\"\n",
    "        \"recoveryPoint\" = @{\"date\" = \"$($RSCMSSQLDatabaseLatestRecoveryPoint)\"}\n",
    "    }\n",
    "}\n",
    "$Inputs = Invoke-RscMutateMssql -createLiveMount -GetInputs\n",
    "$Inputs.Arg.input = $LiveMountConfig\n",
    "\n",
    "Invoke-RscMutateMssql -createLiveMount -Arg $Inputs.Arg"
   ]
  },
  {
   "attachments": {},
   "cell_type": "markdown",
   "metadata": {},
   "source": [
    "## Confirm that database is live mounted\n",
    "A Live mount of a database is the equivalent to doing a T-SQL Restore with your native backups. SQL Server has recovered the snapshot via the SQL Server VSS Writer, and if applicable, rolled the database forward to a point in time chosen by the user. This means we have applied all transactions from the time the snapshot has happened until the point in time chosen. Once a database has been Live Mounted to a SQL Server, the database is ready for any read/write query you would like to run. "
   ]
  },
  {
   "cell_type": "code",
   "execution_count": null,
   "metadata": {
    "dotnet_interactive": {
     "language": "sql"
    },
    "polyglot_notebook": {
     "kernelName": "sql"
    }
   },
   "outputs": [],
   "source": [
    "#!sql-DBCCDemo\n",
    "with fs\n",
    "as\n",
    "(\n",
    "    select database_id, type, size * 8.0 / 1024 size\n",
    "    from sys.master_files\n",
    ")\n",
    "select\n",
    "    name,\n",
    "    state_desc,\n",
    "    (select sum(size) from fs where type = 0 and fs.database_id = db.database_id) DataFileSizeInMB,\n",
    "    (select sum(size) from fs where type = 1 and fs.database_id = db.database_id) LogFileSizeInMB\n",
    "from sys.databases db\n",
    "where db.database_id > 4"
   ]
  },
  {
   "attachments": {},
   "cell_type": "markdown",
   "metadata": {},
   "source": [
    "## DBCC CHECKDB on Live Mounted Database"
   ]
  },
  {
   "attachments": {},
   "cell_type": "markdown",
   "metadata": {},
   "source": [
    "### Look Where Live Mount Database Files Reside\n",
    "A Live Mounted database is a database that resides on the Rubrik Storage. It is then presented back to the SQL Server via an secure SMB3 share. When you look at the database files, you will see they reside on a UNC path. "
   ]
  },
  {
   "cell_type": "code",
   "execution_count": null,
   "metadata": {
    "dotnet_interactive": {
     "language": "sql"
    },
    "polyglot_notebook": {
     "kernelName": "sql"
    }
   },
   "outputs": [],
   "source": [
    "#!sql-DBCCDemo\n",
    "USE [AdventureWorks2019]\n",
    "SELECT\n",
    "  name 'Logical Name', \n",
    "  physical_name 'File Location'\n",
    "FROM sys.database_files;\n",
    "USE [AdventureWorks2019_LiveMount]\n",
    "SELECT\n",
    "  name 'Logical Name', \n",
    "  physical_name 'File Location'\n",
    "FROM sys.database_files;"
   ]
  },
  {
   "attachments": {},
   "cell_type": "markdown",
   "metadata": {},
   "source": [
    "Because this database is sitting on a UNC path, network latency can slow down access to the files. Additionally, the files are not sitting on your production storage array, so performance will not be the same. When you do a DBCC CHECKDB, an hidden database snapshot is created on the same location as the database files. DBCC CHECKDB, then runs its checks against the hidden snapshot. In this case, they will be created on the UNC path where the live mount is residing on. \n",
    "\n",
    "To make things peform a bit better, you should create your database snapshot of the live mounted database on the storage that is attached to the SQL Server. This will consume next to no storage on your SQL Server, but can help increase the performance of the DBCC CHECKDB operation. "
   ]
  },
  {
   "attachments": {},
   "cell_type": "markdown",
   "metadata": {},
   "source": [
    "### Create the database snapshot based off of the live mount"
   ]
  },
  {
   "cell_type": "code",
   "execution_count": null,
   "metadata": {
    "azdata_cell_guid": "b24b0382-f93d-4c51-ad63-83f769dd206a",
    "dotnet_interactive": {
     "language": "pwsh"
    },
    "language": "dotnet-interactive.pwsh"
   },
   "outputs": [],
   "source": [
    "$SnapshotName = \"$($LiveMountName)_DBCC\"\n",
    "$DefaultSQLPaths = Get-DbaDefaultPath -SqlInstance $TargetSQLServerInstance\n",
    "New-DbaDbSnapshot -SQLInstance $TargetSQLServerInstance -Database $LiveMountName -Path $DefaultSQLPaths.Data -Name $SnapshotName | Format-List"
   ]
  },
  {
   "attachments": {},
   "cell_type": "markdown",
   "metadata": {},
   "source": [
    "### Run DBCC CHECKDB"
   ]
  },
  {
   "cell_type": "code",
   "execution_count": null,
   "metadata": {
    "dotnet_interactive": {
     "language": "sql"
    },
    "polyglot_notebook": {
     "kernelName": "sql"
    }
   },
   "outputs": [],
   "source": [
    "#!sql-DBCCDemo\n",
    "USE [AdventureWorks2019_LiveMount_DBCC]\n",
    "DBCC CHECKDB()"
   ]
  },
  {
   "attachments": {},
   "cell_type": "markdown",
   "metadata": {},
   "source": [
    "### Remove database snapshot"
   ]
  },
  {
   "cell_type": "code",
   "execution_count": null,
   "metadata": {
    "azdata_cell_guid": "41c579cd-4139-444b-b69e-a4418f19aa5c",
    "dotnet_interactive": {
     "language": "pwsh"
    },
    "language": "dotnet-interactive.pwsh"
   },
   "outputs": [],
   "source": [
    "Remove-DbaDbSnapshot -SqlInstance $TargetSQLServerInstance -Snapshot $SnapshotName -Confirm:$false"
   ]
  },
  {
   "attachments": {},
   "cell_type": "markdown",
   "metadata": {},
   "source": [
    "## Unmount the Database Live Mount"
   ]
  },
  {
   "cell_type": "code",
   "execution_count": null,
   "metadata": {
    "azdata_cell_guid": "6a636593-e754-413e-9318-280fc44125bd",
    "dotnet_interactive": {
     "language": "pwsh"
    },
    "language": "dotnet-interactive.pwsh"
   },
   "outputs": [],
   "source": [
    "$RSCFields = Get-RscType -Name MssqlDatabase -InitialProperties @('Name','Id', 'PhysicalPath.Name', 'PhysicalPath.Fid', 'PhysicalPath.ObjectType', 'ismount')\n",
    "$RSCdb = Get-RscMssqlDatabase -Name $LiveMountName -Fields $RSCFields\n",
    "$RSCDB.id\n",
    "\n",
    "# $RSCMSSQLInstanceId = ($RSCdb.PhysicalPath  | Where-Object {$_.ObjectType -eq \"MSSQL_INSTANCE\"} | Select-Object Fid).fid\n",
    "# $RSCMSSQLInstanceId\n",
    "\n",
    "\n",
    "# # Connect-Rubrik with a Service Account\n",
    "# Connect-Rubrik -Server $AccessTokenURI -id $ClientID -Secret $ClientSecret\n",
    "\n",
    "\n",
    "# # # Unmount a database from SQL Server\n",
    "# $RubrikDatabaseMount = Get-RubrikDatabaseMount -MountedDatabaseName $LiveMountName -TargetInstanceId $TargetInstance.id\n",
    "# $RubrikRequest = Remove-RubrikDatabaseMount -id $RubrikDatabaseMount.id -Confirm:$false\n",
    "# Disconnect-Rubrik"
   ]
  }
 ],
 "metadata": {
  "kernelspec": {
   "display_name": ".NET (C#)",
   "language": "C#",
   "name": ".net-csharp"
  },
  "language_info": {
   "name": "polyglot-notebook"
  },
  "polyglot_notebook": {
   "kernelInfo": {
    "defaultKernelName": "csharp",
    "items": [
     {
      "aliases": [],
      "name": ".NET"
     },
     {
      "aliases": [
       "C#",
       "c#"
      ],
      "languageName": "C#",
      "name": "csharp"
     },
     {
      "aliases": [
       "F#",
       "f#"
      ],
      "languageName": "F#",
      "name": "fsharp"
     },
     {
      "aliases": [],
      "languageName": "HTML",
      "name": "html"
     },
     {
      "aliases": [],
      "languageName": "KQL",
      "name": "kql"
     },
     {
      "aliases": [],
      "languageName": "Mermaid",
      "name": "mermaid"
     },
     {
      "aliases": [
       "powershell"
      ],
      "languageName": "PowerShell",
      "name": "pwsh"
     },
     {
      "aliases": [],
      "languageName": "SQL",
      "name": "sql"
     },
     {
      "aliases": [],
      "languageName": "T-SQL",
      "name": "sql-DBCCDemo"
     },
     {
      "aliases": [],
      "languageName": "T-SQL",
      "name": "sql-TPCCDemo"
     },
     {
      "aliases": [],
      "name": "value"
     },
     {
      "aliases": [
       "frontend"
      ],
      "name": "vscode"
     }
    ]
   }
  }
 },
 "nbformat": 4,
 "nbformat_minor": 2
}
