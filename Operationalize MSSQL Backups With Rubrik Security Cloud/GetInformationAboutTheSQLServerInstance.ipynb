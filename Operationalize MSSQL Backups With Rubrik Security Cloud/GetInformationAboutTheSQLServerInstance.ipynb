{
 "cells": [
  {
   "cell_type": "code",
   "execution_count": null,
   "metadata": {
    "dotnet_interactive": {
     "language": "pwsh"
    },
    "polyglot_notebook": {
     "kernelName": "pwsh"
    }
   },
   "outputs": [],
   "source": [
    "#query\n",
    "# query GetMSSQLInstance($hostname: [String!]) {\n",
    "#   mssqlTopLevelDescendants(filter: [{field: NAME, texts: $hostname}, {field: IS_RELIC, texts: \"false\"}, {field: IS_ARCHIVED, texts: \"false\"}, {field: IS_REPLICATED, texts: \"false\"}]) {\n",
    "#     nodes {\n",
    "#       id\n",
    "#       name\n",
    "#       numWorkloadDescendants\n",
    "#       ... on PhysicalHost {\n",
    "#         id\n",
    "#         name\n",
    "#         cbtStatus\n",
    "#         physicalChildConnection {\n",
    "#           nodes {\n",
    "#             ... on MssqlInstance {\n",
    "#               id\n",
    "#               name\n",
    "#               slaAssignment\n",
    "#               effectiveSlaDomain {\n",
    "#                 name\n",
    "#                 id\n",
    "#                 version\n",
    "#               }\n",
    "#             }\n",
    "#           }\n",
    "#         }\n",
    "#       }\n",
    "#     }\n",
    "#   }\n",
    "# }"
   ]
  },
  {
   "cell_type": "code",
   "execution_count": null,
   "metadata": {
    "dotnet_interactive": {
     "language": "pwsh"
    },
    "polyglot_notebook": {
     "kernelName": "pwsh"
    }
   },
   "outputs": [],
   "source": [
    "#variables\n",
    "# {\n",
    "#   \"hostname\": [\"rp-sql19sl-01.perf.rubrik.com\"]\n",
    "# }"
   ]
  }
 ],
 "metadata": {
  "kernelspec": {
   "display_name": ".NET (C#)",
   "language": "C#",
   "name": ".net-csharp"
  },
  "polyglot_notebook": {
   "kernelInfo": {
    "defaultKernelName": "csharp",
    "items": [
     {
      "aliases": [],
      "name": "csharp"
     },
     {
      "aliases": [],
      "languageName": "KQL",
      "name": "kql"
     },
     {
      "aliases": [
       "frontend"
      ],
      "languageName": null,
      "name": "vscode"
     }
    ]
   }
  }
 },
 "nbformat": 4,
 "nbformat_minor": 2
}
