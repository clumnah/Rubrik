{
 "cells": [
  {
   "attachments": {},
   "cell_type": "markdown",
   "metadata": {
    "dotnet_interactive": {
     "language": "csharp"
    },
    "polyglot_notebook": {
     "kernelName": "csharp"
    }
   },
   "source": [
    "# Connect-RSC\n",
    "Connects to Rubrik Security Cloud(RSC)\n",
    "\n",
    "Connecting to RSC via the SDK requires the use of a Service Account. A Service Account is a special account created inside RSC that is granted permissions it needs to run an automation task. Before continuing, please read the user guide section pertaining to Service Accounts and create one for your usage. That section can be found [here](https://docs.rubrik.com/en-us/saas/saas/service_account.html).\n",
    "\n",
    "Below we will show examples of connecting to RSC using a Service Account in different ways. \n",
    "\n",
    "---\n",
    "\n",
    "# Setup Environment\n",
    "Once you have created the Service Account, you need to set up your environment.  \n",
    "\n",
    "## Step 1: Install the Rubrik Security Cloud Powershell SDK. **TODO: Confirm this is correct before release**\n",
    "To install the Rubrik Security Cloud Powershell SDK. Run the below code to install the SDK on your machine. Installing the module only needs to be done once. If you have already installed the SDK, then you can proceed to Step 2."
   ]
  },
  {
   "cell_type": "code",
   "execution_count": null,
   "metadata": {
    "dotnet_interactive": {
     "language": "pwsh"
    },
    "polyglot_notebook": {
     "kernelName": "pwsh"
    },
    "vscode": {
     "languageId": "polyglot-notebook"
    }
   },
   "outputs": [],
   "source": [
    "Install-Module Rubrik.SecurityCloud.PowerShell"
   ]
  },
  {
   "attachments": {},
   "cell_type": "markdown",
   "metadata": {
    "dotnet_interactive": {
     "language": "pwsh"
    },
    "polyglot_notebook": {
     "kernelName": "pwsh"
    }
   },
   "source": [
    "## Step 2: Import the Rubrik Security Cloud Powershell SDK\n",
    "To import the Rubrik Security Cloud Powershell SDK. We can do that with the Import-Module command as shown below. "
   ]
  },
  {
   "cell_type": "code",
   "execution_count": null,
   "metadata": {
    "dotnet_interactive": {
     "language": "pwsh"
    },
    "polyglot_notebook": {
     "kernelName": "pwsh"
    },
    "vscode": {
     "languageId": "polyglot-notebook"
    }
   },
   "outputs": [],
   "source": [
    "Import-Module Rubrik.SecurityCloud.PowerShell"
   ]
  },
  {
   "attachments": {},
   "cell_type": "markdown",
   "metadata": {
    "azdata_cell_guid": "64befc64-ac5c-458e-8e76-75dff60de040",
    "dotnet_interactive": {
     "language": "csharp"
    },
    "polyglot_notebook": {
     "kernelName": "csharp"
    }
   },
   "source": [
    "---\n",
    "\n",
    "# Connect using a service account json file\n",
    "When you created the Service Account in RSC, you were given the option to download the json file. You will have a file that has content that looks like the below. \n",
    "\n",
    "```json\n",
    "{\n",
    "\t\"client_id\": \"client|lasdfs1fZ9a2GYRBjrJqotseu\",\n",
    "\t\"client_secret\": \"CCzC_wY6PwVMOTdUZKktr8QL3OWlhasdlfhljasfIz314mErx\",\n",
    "\t\"name\": \"RSC Demo Service Account\",\n",
    "\t\"access_token_uri\": \"https://rubrik-demo.my.rubrik.com/api/client_token\"\n",
    "}\n",
    "```\n",
    "\n",
    "Treat this json file as a secure artifact. This file contains credential information to connect and interact with your RSC instance. This file should be placed into a secure location. \n",
    "\n",
    "To use the json file, run the code below. "
   ]
  },
  {
   "cell_type": "code",
   "execution_count": null,
   "metadata": {
    "dotnet_interactive": {
     "language": "pwsh"
    },
    "polyglot_notebook": {
     "kernelName": "pwsh"
    },
    "vscode": {
     "languageId": "polyglot-notebook"
    }
   },
   "outputs": [],
   "source": [
    "Connect-RSC -ServiceAccountFile /Users/Chris.Lumnah/Downloads/RSCDemoServiceAccount.json"
   ]
  },
  {
   "attachments": {},
   "cell_type": "markdown",
   "metadata": {
    "azdata_cell_guid": "ebb6ca69-fdbd-4950-9901-edfdd6fa9715",
    "dotnet_interactive": {
     "language": "csharp"
    },
    "polyglot_notebook": {
     "kernelName": "csharp"
    }
   },
   "source": [
    "---\n",
    "\n",
    "# Connect using an Environment Variable\n",
    "An alternative is to store the location of the json file in an environment variable. Again, the file contains credential information and should be treated as a secure artifact. Store the file in a secure location. Connect-RSC looks for an environment variable called **RSC_SERVICE_ACCOUNT_FILE**\n",
    "\n",
    "Since this notebook is showing Powershell examples, we will show how to create and use an environment variable in Powershell"
   ]
  },
  {
   "cell_type": "code",
   "execution_count": null,
   "metadata": {
    "dotnet_interactive": {
     "language": "pwsh"
    },
    "polyglot_notebook": {
     "kernelName": "pwsh"
    },
    "vscode": {
     "languageId": "polyglot-notebook"
    }
   },
   "outputs": [],
   "source": [
    "# Create Environment Variable in pwsh. This can be done one time\n",
    "$env:RSC_SERVICE_ACCOUNT_FILE = '/Users/Chris.Lumnah/Downloads/RSCDemoServiceAccount.json'"
   ]
  },
  {
   "cell_type": "code",
   "execution_count": null,
   "metadata": {
    "dotnet_interactive": {
     "language": "pwsh"
    },
    "polyglot_notebook": {
     "kernelName": "pwsh"
    },
    "vscode": {
     "languageId": "polyglot-notebook"
    }
   },
   "outputs": [],
   "source": [
    "# Connect to RSC\n",
    "Connect-Rsc -FromEnv"
   ]
  },
  {
   "attachments": {},
   "cell_type": "markdown",
   "metadata": {
    "azdata_cell_guid": "04b89945-2a0e-4d4f-b437-396ff3b58a9a",
    "dotnet_interactive": {
     "language": "csharp"
    },
    "polyglot_notebook": {
     "kernelName": "csharp"
    }
   },
   "source": [
    "---\n",
    "\n",
    "# Connect using Service Account Values\n",
    "If you do not have the json file, but you have all of the values from the json file, you can pass each value into the appropriate parameter. It is important to note that the Client Secret parameter is expecting a secure string. Your code will look something like...\n",
    "\n",
    "```pwsh\n",
    "$ClientID = \"client|lasdfs1fZ9a2GYRBjrJqotseu\"\n",
    "$ClientSecret = ConvertTo-SecureString (\"CCzC_wY6PwVMOTdUZKktr8QL3OWlhasdlfhljasfIz314mErx\") -AsPlainText -Force\n",
    "$AccessTokenURI = \"https://rubrik-demo.my.rubrik.com/api/client_token\"\n",
    "\n",
    "Connect-RSC -Server $AccessTokenURI -ClientID $ClientID -ClientSecret $ClientSecret\n",
    "```\n",
    "Remember that the above values are security artifacts, so do not store these values in plain text in your scripts. They should be placed into a secure location. \n",
    "\n",
    "\n",
    "In the example below, we are taking things to the next level by having our values stored in a Password Vault. In this example, I am using 1Password. \n"
   ]
  },
  {
   "cell_type": "code",
   "execution_count": null,
   "metadata": {
    "dotnet_interactive": {
     "language": "pwsh"
    },
    "polyglot_notebook": {
     "kernelName": "pwsh"
    },
    "vscode": {
     "languageId": "polyglot-notebook"
    }
   },
   "outputs": [],
   "source": [
    "$ClientID = op read op://Rubrik/RSCDemoServiceAccount/username\n",
    "$ClientSecret = ConvertTo-SecureString (op read op://Rubrik/RSCDemoServiceAccount/credential) -AsPlainText -Force\n",
    "$AccessTokenURI = op read op://Rubrik/RSCDemoServiceAccount/hostname\n",
    "\n",
    "#Connect to RSC\n",
    "Connect-RSC -Server $AccessTokenURI -ClientID $ClientID -ClientSecret $ClientSecret"
   ]
  },
  {
   "attachments": {},
   "cell_type": "markdown",
   "metadata": {
    "dotnet_interactive": {
     "language": "pwsh"
    },
    "polyglot_notebook": {
     "kernelName": "pwsh"
    }
   },
   "source": [
    "---\n",
    "\n",
    "# Disconnect from RSC\n",
    "It is important to have each script you create end by disconnecting from RSC. If you do not, then you will run into issues with token authentication exhaustion. RSC allows a Service Account to have 10 concurrent open connections to RSC. Additional requests will be denied until existing connections are closed. \n",
    "\n",
    "You can easily disconnect your connection by running the below statement. "
   ]
  },
  {
   "cell_type": "code",
   "execution_count": null,
   "metadata": {
    "azdata_cell_guid": "28f133a8-f128-4d9c-b609-9fe2a255abc9",
    "dotnet_interactive": {
     "language": "pwsh"
    },
    "language": "powershell",
    "polyglot_notebook": {
     "kernelName": "pwsh"
    },
    "vscode": {
     "languageId": "polyglot-notebook"
    }
   },
   "outputs": [],
   "source": [
    "Disconnect-Rsc"
   ]
  }
 ],
 "metadata": {
  "kernelspec": {
   "display_name": ".NET (C#)",
   "language": "C#",
   "name": ".net-csharp"
  },
  "polyglot_notebook": {
   "kernelInfo": {
    "defaultKernelName": "csharp",
    "items": [
     {
      "aliases": [
       "c#",
       "C#"
      ],
      "languageName": "C#",
      "name": "csharp"
     },
     {
      "aliases": [],
      "name": ".NET"
     },
     {
      "aliases": [
       "f#",
       "F#"
      ],
      "languageName": "F#",
      "name": "fsharp"
     },
     {
      "aliases": [],
      "languageName": "HTML",
      "name": "html"
     },
     {
      "aliases": [],
      "languageName": "KQL",
      "name": "kql"
     },
     {
      "aliases": [],
      "languageName": "Mermaid",
      "name": "mermaid"
     },
     {
      "aliases": [
       "powershell"
      ],
      "languageName": "PowerShell",
      "name": "pwsh"
     },
     {
      "aliases": [],
      "languageName": "SQL",
      "name": "sql"
     },
     {
      "aliases": [],
      "name": "value"
     },
     {
      "aliases": [
       "frontend"
      ],
      "name": "vscode"
     }
    ]
   }
  }
 },
 "nbformat": 4,
 "nbformat_minor": 2
}
